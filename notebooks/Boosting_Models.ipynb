{
 "cells": [
  {
   "cell_type": "code",
   "execution_count": 4,
   "id": "63e7c4de-fcb1-4374-9c61-44ac51d66300",
   "metadata": {},
   "outputs": [
    {
     "name": "stdout",
     "output_type": "stream",
     "text": [
      "The autoreload extension is already loaded. To reload it, use:\n",
      "  %reload_ext autoreload\n"
     ]
    }
   ],
   "source": [
    "# import mlflow\n",
    "# mlflow.set_tracking_uri(\"http://localhost:5000\")\n",
    "# mlflow.sklearn.autolog()\n",
    "\n",
    "import os\n",
    "import pandas as pd\n",
    "import numpy as np\n",
    "import matplotlib.pyplot as plt\n",
    "\n",
    "from datetime import datetime\n",
    "import taxi_driver.taxi_driver as td\n",
    "\n",
    "from sklearn.linear_model import LinearRegression\n",
    "from sklearn.model_selection import train_test_split,cross_val_score\n",
    "from sklearn.metrics import r2_score\n",
    "from sklearn.metrics import mean_squared_error, r2_score,mean_absolute_error\n",
    "from sklearn.dummy import DummyRegressor\n",
    "from sklearn.tree import DecisionTreeRegressor\n",
    "from sklearn.pipeline import Pipeline\n",
    "from sklearn.compose import ColumnTransformer\n",
    "from sklearn.preprocessing import OneHotEncoder\n",
    "\n",
    "\n",
    "\n",
    "# 📋 Evaluation Function\n",
    "def eval_model(name, y_true, y_pred):\n",
    "    mse = mean_squared_error(y_true, y_pred)\n",
    "    r2 = r2_score(y_true, y_pred)\n",
    "    print(f\"{name:<20} | MSE: {mse:.4f} | R²: {r2:.4f}\")\n",
    "\n",
    "\n",
    "%load_ext autoreload\n",
    "%autoreload 2"
   ]
  },
  {
   "cell_type": "markdown",
   "id": "7e9a16ed-98f3-4d80-9c0b-02a9ea5903e7",
   "metadata": {},
   "source": [
    "## Init Read and cleaning"
   ]
  },
  {
   "cell_type": "code",
   "execution_count": 5,
   "id": "ff32cfe4-5785-4070-ab0d-17cb47edaa9c",
   "metadata": {},
   "outputs": [],
   "source": [
    "#setting some much needed paths \n",
    "\n",
    "dataPath = os.path.join(\"./../data\")\n",
    "csvPath  = os.path.join(dataPath,\"CSV\")\n",
    "shpPath  = os.path.join(dataPath,\"SHP\")\n",
    "\n",
    "outputPath = os.path.join(\"outputs\")\n",
    "imagePath = os.path.join(outputPath,\"images\")\n",
    "\n",
    "clean_df=pd.read_parquet(f'{dataPath}/clean_sample.parquet')\n"
   ]
  },
  {
   "cell_type": "code",
   "execution_count": 7,
   "id": "0aee7918-9911-4251-ab63-728e147106d9",
   "metadata": {
    "scrolled": true
   },
   "outputs": [],
   "source": [
    "#split the df two to parts \n",
    "X=clean_df[[\"fare_amount\",'Airport_flag','trip_distance','congestion_surcharge_flag','mta_tax_flag']]\n",
    "y=clean_df[[\"set_tip_amount_flag\"]]\n",
    "\n",
    "# 🪓 Train/Test split\n",
    "X_train, X_test, y_train, y_test = train_test_split(X, y, test_size=0.2, random_state=42)\n"
   ]
  },
  {
   "cell_type": "code",
   "execution_count": 66,
   "id": "1dfaa3b2-86eb-4c53-b344-26fb2da6e768",
   "metadata": {},
   "outputs": [],
   "source": [
    "from catboost import CatBoostClassifier,CatBoostRegressor\n"
   ]
  },
  {
   "cell_type": "code",
   "execution_count": 92,
   "id": "55a4db24-11cc-414d-a697-c3c645a92d48",
   "metadata": {},
   "outputs": [],
   "source": [
    "numerical_cols=['fare_amount','trip_distance','extra','tolls_amount']\n",
    "\n",
    "\n",
    "categorical_cols = ['pu_day',\n",
    "                    'pu_hour',\n",
    "                    'Airport_flag',\n",
    "                    'congestion_surcharge_flag',\n",
    "                    'is_weekend',\n",
    "                    'is_night',\n",
    "                    'mta_tax_flag']\n",
    "\n",
    "X=clean_df[numerical_cols+categorical_cols]\n",
    "y=clean_df[[\"set_tip_amount_flag\"]]\n",
    "\n",
    "X_train, X_test, y_train, y_test = train_test_split(X, y, test_size=0.2, random_state=42)\n",
    "\n",
    "cat_params = {\n",
    "    'iterations': 300,\n",
    "    'learning_rate': 0.1,\n",
    "    'depth': 4,\n",
    "    'bootstrap_type': 'Bernoulli',\n",
    "    'subsample': 0.7,\n",
    "    'verbose': 50,\n",
    "    'early_stopping_rounds': 30,\n",
    "    'random_seed': 42,\n",
    "    'task_type': 'CPU',\n",
    "    'one_hot_max_size': 2,\n",
    "}\n",
    "\n",
    "# No imputer here\n",
    "categorical_transformer = Pipeline([\n",
    "    ('encoder', OneHotEncoder(handle_unknown='ignore', sparse_output=False))\n",
    "])\n",
    "\n",
    "# Pass-through numerical features as-is (no imputation)\n",
    "preprocessor = ColumnTransformer(transformers=[\n",
    "    ('cat', categorical_transformer, categorical_cols),\n",
    "    ('num', 'passthrough', numerical_cols)\n",
    "])\n",
    "\n",
    "catBoostClassifier = Pipeline([\n",
    "    ('preprocess', preprocessor),\n",
    "    ('model', CatBoostClassifier(**cat_params))\n",
    "])\n"
   ]
  },
  {
   "cell_type": "code",
   "execution_count": null,
   "id": "6d1b2c89-51c4-40c5-b85a-858479b9f450",
   "metadata": {},
   "outputs": [],
   "source": [
    "\n",
    "catBoostClassifier.fit(X_train, y_train)\n",
    "y_pred_xgb = catBoostClassifier.predict(X_test)\n"
   ]
  },
  {
   "cell_type": "code",
   "execution_count": 96,
   "id": "24c5db26-f417-4ef7-9cae-d9b0f21d0420",
   "metadata": {},
   "outputs": [],
   "source": [
    "import optuna"
   ]
  },
  {
   "cell_type": "code",
   "execution_count": 99,
   "id": "4de97106-f07f-45b0-9bd3-e56069d57cf8",
   "metadata": {},
   "outputs": [],
   "source": [
    "\n",
    "def objective(trial):\n",
    "    params = {\n",
    "        'iterations': trial.suggest_int('iterations', 100, 1000),\n",
    "        'learning_rate': trial.suggest_float('learning_rate', 0.01, 0.3),\n",
    "        'depth': trial.suggest_int('depth', 3, 10),\n",
    "        'l2_leaf_reg': trial.suggest_float('l2_leaf_reg', 1, 10),\n",
    "        'bootstrap_type': trial.suggest_categorical('bootstrap_type', ['Bayesian', 'Bernoulli', 'MVS']),\n",
    "        'random_seed': 42,\n",
    "        'verbose': 0,\n",
    "        'early_stopping_rounds': 30,\n",
    "        'task_type': 'CPU'\n",
    "    }\n",
    "\n",
    "    # Fix bootstrap-specific requirements\n",
    "    if params['bootstrap_type'] != 'Bayesian':\n",
    "        params.pop('bagging_temperature', None)\n",
    "\n",
    "    # Create pipeline\n",
    "    pipeline = Pipeline([\n",
    "        ('preprocess', preprocessor),\n",
    "        ('model', CatBoostClassifier(**params))\n",
    "    ])\n",
    "\n",
    "    # 5-fold CV score (use AUC or accuracy depending on your target)\n",
    "    scores = cross_val_score(pipeline, X_train, y_train, cv=3, scoring='accuracy')\n",
    "    return np.mean(scores)"
   ]
  },
  {
   "cell_type": "code",
   "execution_count": 84,
   "id": "5ce43447-0093-467f-89fa-ef654bac7d39",
   "metadata": {},
   "outputs": [],
   "source": [
    "numerical_cols=['fare_amount','trip_distance','extra','tolls_amount']\n",
    "\n",
    "\n",
    "categorical_cols = ['pu_day',\n",
    "                    'pu_hour',\n",
    "                    'Airport_flag',\n",
    "                    'congestion_surcharge_flag',\n",
    "                    'is_weekend',\n",
    "                    'is_night',\n",
    "                    'mta_tax_flag',\n",
    "                    'set_tip_amount_flag'\n",
    "]\n",
    "\n",
    "X=clean_df[numerical_cols+categorical_cols]\n",
    "y=clean_df[[\"tip_amount\"]]\n",
    "\n",
    "\n",
    "X_train, X_test, y_train, y_test = train_test_split(X, y, test_size=0.2, random_state=13)\n"
   ]
  },
  {
   "cell_type": "code",
   "execution_count": 82,
   "id": "35ff96e6-9e3d-4ad2-a0d8-8a4a351bbbc9",
   "metadata": {},
   "outputs": [],
   "source": [
    "predicted_set_amount_flag = catBoostClassifier.predict(X_train)\n"
   ]
  },
  {
   "cell_type": "code",
   "execution_count": 83,
   "id": "ed240ca5-29ad-4a91-8f3e-1edb5dc3abf3",
   "metadata": {},
   "outputs": [],
   "source": [
    "X_train['set_tip_amount_flag']=predicted_set_amount_flag"
   ]
  },
  {
   "cell_type": "code",
   "execution_count": null,
   "id": "90570422-8846-4ad5-b371-74f635c1e0fb",
   "metadata": {},
   "outputs": [],
   "source": []
  },
  {
   "cell_type": "code",
   "execution_count": 85,
   "id": "09f56895-68fa-444f-9652-ca45057263bd",
   "metadata": {},
   "outputs": [
    {
     "name": "stdout",
     "output_type": "stream",
     "text": [
      "0:\tlearn: 3.6895627\ttotal: 25.7ms\tremaining: 7.67s\n",
      "50:\tlearn: 1.8884980\ttotal: 1.04s\tremaining: 5.09s\n",
      "100:\tlearn: 1.8770949\ttotal: 1.99s\tremaining: 3.93s\n",
      "150:\tlearn: 1.8714620\ttotal: 2.92s\tremaining: 2.88s\n",
      "200:\tlearn: 1.8673360\ttotal: 3.86s\tremaining: 1.9s\n",
      "250:\tlearn: 1.8637799\ttotal: 4.8s\tremaining: 938ms\n",
      "299:\tlearn: 1.8606327\ttotal: 5.69s\tremaining: 0us\n"
     ]
    },
    {
     "data": {
      "text/html": [
       "<style>#sk-container-id-1 {\n",
       "  /* Definition of color scheme common for light and dark mode */\n",
       "  --sklearn-color-text: #000;\n",
       "  --sklearn-color-text-muted: #666;\n",
       "  --sklearn-color-line: gray;\n",
       "  /* Definition of color scheme for unfitted estimators */\n",
       "  --sklearn-color-unfitted-level-0: #fff5e6;\n",
       "  --sklearn-color-unfitted-level-1: #f6e4d2;\n",
       "  --sklearn-color-unfitted-level-2: #ffe0b3;\n",
       "  --sklearn-color-unfitted-level-3: chocolate;\n",
       "  /* Definition of color scheme for fitted estimators */\n",
       "  --sklearn-color-fitted-level-0: #f0f8ff;\n",
       "  --sklearn-color-fitted-level-1: #d4ebff;\n",
       "  --sklearn-color-fitted-level-2: #b3dbfd;\n",
       "  --sklearn-color-fitted-level-3: cornflowerblue;\n",
       "\n",
       "  /* Specific color for light theme */\n",
       "  --sklearn-color-text-on-default-background: var(--sg-text-color, var(--theme-code-foreground, var(--jp-content-font-color1, black)));\n",
       "  --sklearn-color-background: var(--sg-background-color, var(--theme-background, var(--jp-layout-color0, white)));\n",
       "  --sklearn-color-border-box: var(--sg-text-color, var(--theme-code-foreground, var(--jp-content-font-color1, black)));\n",
       "  --sklearn-color-icon: #696969;\n",
       "\n",
       "  @media (prefers-color-scheme: dark) {\n",
       "    /* Redefinition of color scheme for dark theme */\n",
       "    --sklearn-color-text-on-default-background: var(--sg-text-color, var(--theme-code-foreground, var(--jp-content-font-color1, white)));\n",
       "    --sklearn-color-background: var(--sg-background-color, var(--theme-background, var(--jp-layout-color0, #111)));\n",
       "    --sklearn-color-border-box: var(--sg-text-color, var(--theme-code-foreground, var(--jp-content-font-color1, white)));\n",
       "    --sklearn-color-icon: #878787;\n",
       "  }\n",
       "}\n",
       "\n",
       "#sk-container-id-1 {\n",
       "  color: var(--sklearn-color-text);\n",
       "}\n",
       "\n",
       "#sk-container-id-1 pre {\n",
       "  padding: 0;\n",
       "}\n",
       "\n",
       "#sk-container-id-1 input.sk-hidden--visually {\n",
       "  border: 0;\n",
       "  clip: rect(1px 1px 1px 1px);\n",
       "  clip: rect(1px, 1px, 1px, 1px);\n",
       "  height: 1px;\n",
       "  margin: -1px;\n",
       "  overflow: hidden;\n",
       "  padding: 0;\n",
       "  position: absolute;\n",
       "  width: 1px;\n",
       "}\n",
       "\n",
       "#sk-container-id-1 div.sk-dashed-wrapped {\n",
       "  border: 1px dashed var(--sklearn-color-line);\n",
       "  margin: 0 0.4em 0.5em 0.4em;\n",
       "  box-sizing: border-box;\n",
       "  padding-bottom: 0.4em;\n",
       "  background-color: var(--sklearn-color-background);\n",
       "}\n",
       "\n",
       "#sk-container-id-1 div.sk-container {\n",
       "  /* jupyter's `normalize.less` sets `[hidden] { display: none; }`\n",
       "     but bootstrap.min.css set `[hidden] { display: none !important; }`\n",
       "     so we also need the `!important` here to be able to override the\n",
       "     default hidden behavior on the sphinx rendered scikit-learn.org.\n",
       "     See: https://github.com/scikit-learn/scikit-learn/issues/21755 */\n",
       "  display: inline-block !important;\n",
       "  position: relative;\n",
       "}\n",
       "\n",
       "#sk-container-id-1 div.sk-text-repr-fallback {\n",
       "  display: none;\n",
       "}\n",
       "\n",
       "div.sk-parallel-item,\n",
       "div.sk-serial,\n",
       "div.sk-item {\n",
       "  /* draw centered vertical line to link estimators */\n",
       "  background-image: linear-gradient(var(--sklearn-color-text-on-default-background), var(--sklearn-color-text-on-default-background));\n",
       "  background-size: 2px 100%;\n",
       "  background-repeat: no-repeat;\n",
       "  background-position: center center;\n",
       "}\n",
       "\n",
       "/* Parallel-specific style estimator block */\n",
       "\n",
       "#sk-container-id-1 div.sk-parallel-item::after {\n",
       "  content: \"\";\n",
       "  width: 100%;\n",
       "  border-bottom: 2px solid var(--sklearn-color-text-on-default-background);\n",
       "  flex-grow: 1;\n",
       "}\n",
       "\n",
       "#sk-container-id-1 div.sk-parallel {\n",
       "  display: flex;\n",
       "  align-items: stretch;\n",
       "  justify-content: center;\n",
       "  background-color: var(--sklearn-color-background);\n",
       "  position: relative;\n",
       "}\n",
       "\n",
       "#sk-container-id-1 div.sk-parallel-item {\n",
       "  display: flex;\n",
       "  flex-direction: column;\n",
       "}\n",
       "\n",
       "#sk-container-id-1 div.sk-parallel-item:first-child::after {\n",
       "  align-self: flex-end;\n",
       "  width: 50%;\n",
       "}\n",
       "\n",
       "#sk-container-id-1 div.sk-parallel-item:last-child::after {\n",
       "  align-self: flex-start;\n",
       "  width: 50%;\n",
       "}\n",
       "\n",
       "#sk-container-id-1 div.sk-parallel-item:only-child::after {\n",
       "  width: 0;\n",
       "}\n",
       "\n",
       "/* Serial-specific style estimator block */\n",
       "\n",
       "#sk-container-id-1 div.sk-serial {\n",
       "  display: flex;\n",
       "  flex-direction: column;\n",
       "  align-items: center;\n",
       "  background-color: var(--sklearn-color-background);\n",
       "  padding-right: 1em;\n",
       "  padding-left: 1em;\n",
       "}\n",
       "\n",
       "\n",
       "/* Toggleable style: style used for estimator/Pipeline/ColumnTransformer box that is\n",
       "clickable and can be expanded/collapsed.\n",
       "- Pipeline and ColumnTransformer use this feature and define the default style\n",
       "- Estimators will overwrite some part of the style using the `sk-estimator` class\n",
       "*/\n",
       "\n",
       "/* Pipeline and ColumnTransformer style (default) */\n",
       "\n",
       "#sk-container-id-1 div.sk-toggleable {\n",
       "  /* Default theme specific background. It is overwritten whether we have a\n",
       "  specific estimator or a Pipeline/ColumnTransformer */\n",
       "  background-color: var(--sklearn-color-background);\n",
       "}\n",
       "\n",
       "/* Toggleable label */\n",
       "#sk-container-id-1 label.sk-toggleable__label {\n",
       "  cursor: pointer;\n",
       "  display: flex;\n",
       "  width: 100%;\n",
       "  margin-bottom: 0;\n",
       "  padding: 0.5em;\n",
       "  box-sizing: border-box;\n",
       "  text-align: center;\n",
       "  align-items: start;\n",
       "  justify-content: space-between;\n",
       "  gap: 0.5em;\n",
       "}\n",
       "\n",
       "#sk-container-id-1 label.sk-toggleable__label .caption {\n",
       "  font-size: 0.6rem;\n",
       "  font-weight: lighter;\n",
       "  color: var(--sklearn-color-text-muted);\n",
       "}\n",
       "\n",
       "#sk-container-id-1 label.sk-toggleable__label-arrow:before {\n",
       "  /* Arrow on the left of the label */\n",
       "  content: \"▸\";\n",
       "  float: left;\n",
       "  margin-right: 0.25em;\n",
       "  color: var(--sklearn-color-icon);\n",
       "}\n",
       "\n",
       "#sk-container-id-1 label.sk-toggleable__label-arrow:hover:before {\n",
       "  color: var(--sklearn-color-text);\n",
       "}\n",
       "\n",
       "/* Toggleable content - dropdown */\n",
       "\n",
       "#sk-container-id-1 div.sk-toggleable__content {\n",
       "  max-height: 0;\n",
       "  max-width: 0;\n",
       "  overflow: hidden;\n",
       "  text-align: left;\n",
       "  /* unfitted */\n",
       "  background-color: var(--sklearn-color-unfitted-level-0);\n",
       "}\n",
       "\n",
       "#sk-container-id-1 div.sk-toggleable__content.fitted {\n",
       "  /* fitted */\n",
       "  background-color: var(--sklearn-color-fitted-level-0);\n",
       "}\n",
       "\n",
       "#sk-container-id-1 div.sk-toggleable__content pre {\n",
       "  margin: 0.2em;\n",
       "  border-radius: 0.25em;\n",
       "  color: var(--sklearn-color-text);\n",
       "  /* unfitted */\n",
       "  background-color: var(--sklearn-color-unfitted-level-0);\n",
       "}\n",
       "\n",
       "#sk-container-id-1 div.sk-toggleable__content.fitted pre {\n",
       "  /* unfitted */\n",
       "  background-color: var(--sklearn-color-fitted-level-0);\n",
       "}\n",
       "\n",
       "#sk-container-id-1 input.sk-toggleable__control:checked~div.sk-toggleable__content {\n",
       "  /* Expand drop-down */\n",
       "  max-height: 200px;\n",
       "  max-width: 100%;\n",
       "  overflow: auto;\n",
       "}\n",
       "\n",
       "#sk-container-id-1 input.sk-toggleable__control:checked~label.sk-toggleable__label-arrow:before {\n",
       "  content: \"▾\";\n",
       "}\n",
       "\n",
       "/* Pipeline/ColumnTransformer-specific style */\n",
       "\n",
       "#sk-container-id-1 div.sk-label input.sk-toggleable__control:checked~label.sk-toggleable__label {\n",
       "  color: var(--sklearn-color-text);\n",
       "  background-color: var(--sklearn-color-unfitted-level-2);\n",
       "}\n",
       "\n",
       "#sk-container-id-1 div.sk-label.fitted input.sk-toggleable__control:checked~label.sk-toggleable__label {\n",
       "  background-color: var(--sklearn-color-fitted-level-2);\n",
       "}\n",
       "\n",
       "/* Estimator-specific style */\n",
       "\n",
       "/* Colorize estimator box */\n",
       "#sk-container-id-1 div.sk-estimator input.sk-toggleable__control:checked~label.sk-toggleable__label {\n",
       "  /* unfitted */\n",
       "  background-color: var(--sklearn-color-unfitted-level-2);\n",
       "}\n",
       "\n",
       "#sk-container-id-1 div.sk-estimator.fitted input.sk-toggleable__control:checked~label.sk-toggleable__label {\n",
       "  /* fitted */\n",
       "  background-color: var(--sklearn-color-fitted-level-2);\n",
       "}\n",
       "\n",
       "#sk-container-id-1 div.sk-label label.sk-toggleable__label,\n",
       "#sk-container-id-1 div.sk-label label {\n",
       "  /* The background is the default theme color */\n",
       "  color: var(--sklearn-color-text-on-default-background);\n",
       "}\n",
       "\n",
       "/* On hover, darken the color of the background */\n",
       "#sk-container-id-1 div.sk-label:hover label.sk-toggleable__label {\n",
       "  color: var(--sklearn-color-text);\n",
       "  background-color: var(--sklearn-color-unfitted-level-2);\n",
       "}\n",
       "\n",
       "/* Label box, darken color on hover, fitted */\n",
       "#sk-container-id-1 div.sk-label.fitted:hover label.sk-toggleable__label.fitted {\n",
       "  color: var(--sklearn-color-text);\n",
       "  background-color: var(--sklearn-color-fitted-level-2);\n",
       "}\n",
       "\n",
       "/* Estimator label */\n",
       "\n",
       "#sk-container-id-1 div.sk-label label {\n",
       "  font-family: monospace;\n",
       "  font-weight: bold;\n",
       "  display: inline-block;\n",
       "  line-height: 1.2em;\n",
       "}\n",
       "\n",
       "#sk-container-id-1 div.sk-label-container {\n",
       "  text-align: center;\n",
       "}\n",
       "\n",
       "/* Estimator-specific */\n",
       "#sk-container-id-1 div.sk-estimator {\n",
       "  font-family: monospace;\n",
       "  border: 1px dotted var(--sklearn-color-border-box);\n",
       "  border-radius: 0.25em;\n",
       "  box-sizing: border-box;\n",
       "  margin-bottom: 0.5em;\n",
       "  /* unfitted */\n",
       "  background-color: var(--sklearn-color-unfitted-level-0);\n",
       "}\n",
       "\n",
       "#sk-container-id-1 div.sk-estimator.fitted {\n",
       "  /* fitted */\n",
       "  background-color: var(--sklearn-color-fitted-level-0);\n",
       "}\n",
       "\n",
       "/* on hover */\n",
       "#sk-container-id-1 div.sk-estimator:hover {\n",
       "  /* unfitted */\n",
       "  background-color: var(--sklearn-color-unfitted-level-2);\n",
       "}\n",
       "\n",
       "#sk-container-id-1 div.sk-estimator.fitted:hover {\n",
       "  /* fitted */\n",
       "  background-color: var(--sklearn-color-fitted-level-2);\n",
       "}\n",
       "\n",
       "/* Specification for estimator info (e.g. \"i\" and \"?\") */\n",
       "\n",
       "/* Common style for \"i\" and \"?\" */\n",
       "\n",
       ".sk-estimator-doc-link,\n",
       "a:link.sk-estimator-doc-link,\n",
       "a:visited.sk-estimator-doc-link {\n",
       "  float: right;\n",
       "  font-size: smaller;\n",
       "  line-height: 1em;\n",
       "  font-family: monospace;\n",
       "  background-color: var(--sklearn-color-background);\n",
       "  border-radius: 1em;\n",
       "  height: 1em;\n",
       "  width: 1em;\n",
       "  text-decoration: none !important;\n",
       "  margin-left: 0.5em;\n",
       "  text-align: center;\n",
       "  /* unfitted */\n",
       "  border: var(--sklearn-color-unfitted-level-1) 1pt solid;\n",
       "  color: var(--sklearn-color-unfitted-level-1);\n",
       "}\n",
       "\n",
       ".sk-estimator-doc-link.fitted,\n",
       "a:link.sk-estimator-doc-link.fitted,\n",
       "a:visited.sk-estimator-doc-link.fitted {\n",
       "  /* fitted */\n",
       "  border: var(--sklearn-color-fitted-level-1) 1pt solid;\n",
       "  color: var(--sklearn-color-fitted-level-1);\n",
       "}\n",
       "\n",
       "/* On hover */\n",
       "div.sk-estimator:hover .sk-estimator-doc-link:hover,\n",
       ".sk-estimator-doc-link:hover,\n",
       "div.sk-label-container:hover .sk-estimator-doc-link:hover,\n",
       ".sk-estimator-doc-link:hover {\n",
       "  /* unfitted */\n",
       "  background-color: var(--sklearn-color-unfitted-level-3);\n",
       "  color: var(--sklearn-color-background);\n",
       "  text-decoration: none;\n",
       "}\n",
       "\n",
       "div.sk-estimator.fitted:hover .sk-estimator-doc-link.fitted:hover,\n",
       ".sk-estimator-doc-link.fitted:hover,\n",
       "div.sk-label-container:hover .sk-estimator-doc-link.fitted:hover,\n",
       ".sk-estimator-doc-link.fitted:hover {\n",
       "  /* fitted */\n",
       "  background-color: var(--sklearn-color-fitted-level-3);\n",
       "  color: var(--sklearn-color-background);\n",
       "  text-decoration: none;\n",
       "}\n",
       "\n",
       "/* Span, style for the box shown on hovering the info icon */\n",
       ".sk-estimator-doc-link span {\n",
       "  display: none;\n",
       "  z-index: 9999;\n",
       "  position: relative;\n",
       "  font-weight: normal;\n",
       "  right: .2ex;\n",
       "  padding: .5ex;\n",
       "  margin: .5ex;\n",
       "  width: min-content;\n",
       "  min-width: 20ex;\n",
       "  max-width: 50ex;\n",
       "  color: var(--sklearn-color-text);\n",
       "  box-shadow: 2pt 2pt 4pt #999;\n",
       "  /* unfitted */\n",
       "  background: var(--sklearn-color-unfitted-level-0);\n",
       "  border: .5pt solid var(--sklearn-color-unfitted-level-3);\n",
       "}\n",
       "\n",
       ".sk-estimator-doc-link.fitted span {\n",
       "  /* fitted */\n",
       "  background: var(--sklearn-color-fitted-level-0);\n",
       "  border: var(--sklearn-color-fitted-level-3);\n",
       "}\n",
       "\n",
       ".sk-estimator-doc-link:hover span {\n",
       "  display: block;\n",
       "}\n",
       "\n",
       "/* \"?\"-specific style due to the `<a>` HTML tag */\n",
       "\n",
       "#sk-container-id-1 a.estimator_doc_link {\n",
       "  float: right;\n",
       "  font-size: 1rem;\n",
       "  line-height: 1em;\n",
       "  font-family: monospace;\n",
       "  background-color: var(--sklearn-color-background);\n",
       "  border-radius: 1rem;\n",
       "  height: 1rem;\n",
       "  width: 1rem;\n",
       "  text-decoration: none;\n",
       "  /* unfitted */\n",
       "  color: var(--sklearn-color-unfitted-level-1);\n",
       "  border: var(--sklearn-color-unfitted-level-1) 1pt solid;\n",
       "}\n",
       "\n",
       "#sk-container-id-1 a.estimator_doc_link.fitted {\n",
       "  /* fitted */\n",
       "  border: var(--sklearn-color-fitted-level-1) 1pt solid;\n",
       "  color: var(--sklearn-color-fitted-level-1);\n",
       "}\n",
       "\n",
       "/* On hover */\n",
       "#sk-container-id-1 a.estimator_doc_link:hover {\n",
       "  /* unfitted */\n",
       "  background-color: var(--sklearn-color-unfitted-level-3);\n",
       "  color: var(--sklearn-color-background);\n",
       "  text-decoration: none;\n",
       "}\n",
       "\n",
       "#sk-container-id-1 a.estimator_doc_link.fitted:hover {\n",
       "  /* fitted */\n",
       "  background-color: var(--sklearn-color-fitted-level-3);\n",
       "}\n",
       "</style><div id=\"sk-container-id-1\" class=\"sk-top-container\"><div class=\"sk-text-repr-fallback\"><pre>Pipeline(steps=[(&#x27;preprocess&#x27;,\n",
       "                 ColumnTransformer(transformers=[(&#x27;cat&#x27;,\n",
       "                                                  Pipeline(steps=[(&#x27;encoder&#x27;,\n",
       "                                                                   OneHotEncoder(handle_unknown=&#x27;ignore&#x27;,\n",
       "                                                                                 sparse_output=False))]),\n",
       "                                                  [&#x27;pu_day&#x27;, &#x27;pu_hour&#x27;,\n",
       "                                                   &#x27;Airport_flag&#x27;,\n",
       "                                                   &#x27;congestion_surcharge_flag&#x27;,\n",
       "                                                   &#x27;is_weekend&#x27;, &#x27;is_night&#x27;,\n",
       "                                                   &#x27;mta_tax_flag&#x27;]),\n",
       "                                                 (&#x27;num&#x27;, &#x27;passthrough&#x27;,\n",
       "                                                  [&#x27;fare_amount&#x27;,\n",
       "                                                   &#x27;trip_distance&#x27;, &#x27;extra&#x27;,\n",
       "                                                   &#x27;tolls_amount&#x27;])])),\n",
       "                (&#x27;model&#x27;,\n",
       "                 &lt;catboost.core.CatBoostRegressor object at 0x738dfc7ada60&gt;)])</pre><b>In a Jupyter environment, please rerun this cell to show the HTML representation or trust the notebook. <br />On GitHub, the HTML representation is unable to render, please try loading this page with nbviewer.org.</b></div><div class=\"sk-container\" hidden><div class=\"sk-item sk-dashed-wrapped\"><div class=\"sk-label-container\"><div class=\"sk-label fitted sk-toggleable\"><input class=\"sk-toggleable__control sk-hidden--visually\" id=\"sk-estimator-id-1\" type=\"checkbox\" ><label for=\"sk-estimator-id-1\" class=\"sk-toggleable__label fitted sk-toggleable__label-arrow\"><div><div>Pipeline</div></div><div><a class=\"sk-estimator-doc-link fitted\" rel=\"noreferrer\" target=\"_blank\" href=\"https://scikit-learn.org/1.6/modules/generated/sklearn.pipeline.Pipeline.html\">?<span>Documentation for Pipeline</span></a><span class=\"sk-estimator-doc-link fitted\">i<span>Fitted</span></span></div></label><div class=\"sk-toggleable__content fitted\"><pre>Pipeline(steps=[(&#x27;preprocess&#x27;,\n",
       "                 ColumnTransformer(transformers=[(&#x27;cat&#x27;,\n",
       "                                                  Pipeline(steps=[(&#x27;encoder&#x27;,\n",
       "                                                                   OneHotEncoder(handle_unknown=&#x27;ignore&#x27;,\n",
       "                                                                                 sparse_output=False))]),\n",
       "                                                  [&#x27;pu_day&#x27;, &#x27;pu_hour&#x27;,\n",
       "                                                   &#x27;Airport_flag&#x27;,\n",
       "                                                   &#x27;congestion_surcharge_flag&#x27;,\n",
       "                                                   &#x27;is_weekend&#x27;, &#x27;is_night&#x27;,\n",
       "                                                   &#x27;mta_tax_flag&#x27;]),\n",
       "                                                 (&#x27;num&#x27;, &#x27;passthrough&#x27;,\n",
       "                                                  [&#x27;fare_amount&#x27;,\n",
       "                                                   &#x27;trip_distance&#x27;, &#x27;extra&#x27;,\n",
       "                                                   &#x27;tolls_amount&#x27;])])),\n",
       "                (&#x27;model&#x27;,\n",
       "                 &lt;catboost.core.CatBoostRegressor object at 0x738dfc7ada60&gt;)])</pre></div> </div></div><div class=\"sk-serial\"><div class=\"sk-item sk-dashed-wrapped\"><div class=\"sk-label-container\"><div class=\"sk-label fitted sk-toggleable\"><input class=\"sk-toggleable__control sk-hidden--visually\" id=\"sk-estimator-id-2\" type=\"checkbox\" ><label for=\"sk-estimator-id-2\" class=\"sk-toggleable__label fitted sk-toggleable__label-arrow\"><div><div>preprocess: ColumnTransformer</div></div><div><a class=\"sk-estimator-doc-link fitted\" rel=\"noreferrer\" target=\"_blank\" href=\"https://scikit-learn.org/1.6/modules/generated/sklearn.compose.ColumnTransformer.html\">?<span>Documentation for preprocess: ColumnTransformer</span></a></div></label><div class=\"sk-toggleable__content fitted\"><pre>ColumnTransformer(transformers=[(&#x27;cat&#x27;,\n",
       "                                 Pipeline(steps=[(&#x27;encoder&#x27;,\n",
       "                                                  OneHotEncoder(handle_unknown=&#x27;ignore&#x27;,\n",
       "                                                                sparse_output=False))]),\n",
       "                                 [&#x27;pu_day&#x27;, &#x27;pu_hour&#x27;, &#x27;Airport_flag&#x27;,\n",
       "                                  &#x27;congestion_surcharge_flag&#x27;, &#x27;is_weekend&#x27;,\n",
       "                                  &#x27;is_night&#x27;, &#x27;mta_tax_flag&#x27;]),\n",
       "                                (&#x27;num&#x27;, &#x27;passthrough&#x27;,\n",
       "                                 [&#x27;fare_amount&#x27;, &#x27;trip_distance&#x27;, &#x27;extra&#x27;,\n",
       "                                  &#x27;tolls_amount&#x27;])])</pre></div> </div></div><div class=\"sk-parallel\"><div class=\"sk-parallel-item\"><div class=\"sk-item\"><div class=\"sk-label-container\"><div class=\"sk-label fitted sk-toggleable\"><input class=\"sk-toggleable__control sk-hidden--visually\" id=\"sk-estimator-id-3\" type=\"checkbox\" ><label for=\"sk-estimator-id-3\" class=\"sk-toggleable__label fitted sk-toggleable__label-arrow\"><div><div>cat</div></div></label><div class=\"sk-toggleable__content fitted\"><pre>[&#x27;pu_day&#x27;, &#x27;pu_hour&#x27;, &#x27;Airport_flag&#x27;, &#x27;congestion_surcharge_flag&#x27;, &#x27;is_weekend&#x27;, &#x27;is_night&#x27;, &#x27;mta_tax_flag&#x27;]</pre></div> </div></div><div class=\"sk-serial\"><div class=\"sk-item\"><div class=\"sk-serial\"><div class=\"sk-item\"><div class=\"sk-estimator fitted sk-toggleable\"><input class=\"sk-toggleable__control sk-hidden--visually\" id=\"sk-estimator-id-4\" type=\"checkbox\" ><label for=\"sk-estimator-id-4\" class=\"sk-toggleable__label fitted sk-toggleable__label-arrow\"><div><div>OneHotEncoder</div></div><div><a class=\"sk-estimator-doc-link fitted\" rel=\"noreferrer\" target=\"_blank\" href=\"https://scikit-learn.org/1.6/modules/generated/sklearn.preprocessing.OneHotEncoder.html\">?<span>Documentation for OneHotEncoder</span></a></div></label><div class=\"sk-toggleable__content fitted\"><pre>OneHotEncoder(handle_unknown=&#x27;ignore&#x27;, sparse_output=False)</pre></div> </div></div></div></div></div></div></div><div class=\"sk-parallel-item\"><div class=\"sk-item\"><div class=\"sk-label-container\"><div class=\"sk-label fitted sk-toggleable\"><input class=\"sk-toggleable__control sk-hidden--visually\" id=\"sk-estimator-id-5\" type=\"checkbox\" ><label for=\"sk-estimator-id-5\" class=\"sk-toggleable__label fitted sk-toggleable__label-arrow\"><div><div>num</div></div></label><div class=\"sk-toggleable__content fitted\"><pre>[&#x27;fare_amount&#x27;, &#x27;trip_distance&#x27;, &#x27;extra&#x27;, &#x27;tolls_amount&#x27;]</pre></div> </div></div><div class=\"sk-serial\"><div class=\"sk-item\"><div class=\"sk-estimator fitted sk-toggleable\"><input class=\"sk-toggleable__control sk-hidden--visually\" id=\"sk-estimator-id-6\" type=\"checkbox\" ><label for=\"sk-estimator-id-6\" class=\"sk-toggleable__label fitted sk-toggleable__label-arrow\"><div><div>passthrough</div></div></label><div class=\"sk-toggleable__content fitted\"><pre>passthrough</pre></div> </div></div></div></div></div></div></div><div class=\"sk-item\"><div class=\"sk-estimator fitted sk-toggleable\"><input class=\"sk-toggleable__control sk-hidden--visually\" id=\"sk-estimator-id-7\" type=\"checkbox\" ><label for=\"sk-estimator-id-7\" class=\"sk-toggleable__label fitted sk-toggleable__label-arrow\"><div><div>CatBoostRegressor</div></div></label><div class=\"sk-toggleable__content fitted\"><pre>&lt;catboost.core.CatBoostRegressor object at 0x738dfc7ada60&gt;</pre></div> </div></div></div></div></div></div>"
      ],
      "text/plain": [
       "Pipeline(steps=[('preprocess',\n",
       "                 ColumnTransformer(transformers=[('cat',\n",
       "                                                  Pipeline(steps=[('encoder',\n",
       "                                                                   OneHotEncoder(handle_unknown='ignore',\n",
       "                                                                                 sparse_output=False))]),\n",
       "                                                  ['pu_day', 'pu_hour',\n",
       "                                                   'Airport_flag',\n",
       "                                                   'congestion_surcharge_flag',\n",
       "                                                   'is_weekend', 'is_night',\n",
       "                                                   'mta_tax_flag']),\n",
       "                                                 ('num', 'passthrough',\n",
       "                                                  ['fare_amount',\n",
       "                                                   'trip_distance', 'extra',\n",
       "                                                   'tolls_amount'])])),\n",
       "                ('model',\n",
       "                 <catboost.core.CatBoostRegressor object at 0x738dfc7ada60>)])"
      ]
     },
     "execution_count": 85,
     "metadata": {},
     "output_type": "execute_result"
    }
   ],
   "source": [
    "catBoostRegressor = Pipeline([\n",
    "    ('preprocess', preprocessor),\n",
    "    ('model', CatBoostRegressor(**cat_params))\n",
    "])\n",
    "catBoostRegressor.fit(X_train, y_train)"
   ]
  },
  {
   "cell_type": "code",
   "execution_count": 89,
   "id": "eee97b2a-555e-4019-880e-698d8156318e",
   "metadata": {},
   "outputs": [],
   "source": [
    "predicted_set_amount_flag = catBoostClassifier.predict(X_test)\n",
    "X_test['set_tip_amount_flag']=predicted_set_amount_flag\n",
    "predicted_tip_amount = catBoostRegressor.predict(X_test)"
   ]
  },
  {
   "cell_type": "code",
   "execution_count": 90,
   "id": "c6045efb-eccc-4366-a373-341d52850642",
   "metadata": {},
   "outputs": [
    {
     "name": "stdout",
     "output_type": "stream",
     "text": [
      "                     | MSE: 3.5510 | R²: 0.7084\n"
     ]
    }
   ],
   "source": [
    "eval_model('',predicted_tip_amount,y_test)"
   ]
  },
  {
   "cell_type": "code",
   "execution_count": 49,
   "id": "c83b7b00-bd67-4e8e-8424-e845d1d76063",
   "metadata": {},
   "outputs": [],
   "source": [
    "categorical_cols= categorical_cols.append('set_tip_flag')"
   ]
  },
  {
   "cell_type": "code",
   "execution_count": 50,
   "id": "94c54fc4-019c-4fe9-8541-21ba7bda46e1",
   "metadata": {},
   "outputs": [],
   "source": [
    "# Pass-through numerical features as-is (no imputation)\n",
    "preprocessor = ColumnTransformer(transformers=[\n",
    "    ('cat', categorical_transformer, categorical_cols),\n",
    "    ('num', 'passthrough', numerical_cols)\n",
    "])"
   ]
  },
  {
   "cell_type": "code",
   "execution_count": null,
   "id": "a011696d-88e4-4379-b032-cdf16549545f",
   "metadata": {},
   "outputs": [],
   "source": [
    "pipeline = Pipeline([\n",
    "    ('preprocess', preprocessor),  # your ColumnTransformer or similar\n",
    "    ('catboost_classifier', CatBoostProbaTransformer(CatBoostClassifier(**cat_params))),\n",
    "    ('regressor', CatBoostRegressor(**cat_params))\n",
    "])"
   ]
  },
  {
   "cell_type": "code",
   "execution_count": 43,
   "id": "a518299b-90ec-4fce-acb3-3cba72fd8ba8",
   "metadata": {},
   "outputs": [],
   "source": [
    "from sklearn.base import BaseEstimator, TransformerMixin\n",
    "from catboost import CatBoostClassifier, CatBoostRegressor\n",
    "from sklearn.pipeline import Pipeline\n",
    "\n",
    "class CatBoostProbaTransformer(BaseEstimator, TransformerMixin):\n",
    "    def __init__(self, model=None):\n",
    "        self.model = model or CatBoostClassifier(verbose=0)\n",
    "    \n",
    "    def fit(self, X, y):\n",
    "        self.model.fit(X, y)\n",
    "        return self\n",
    "    \n",
    "    def transform(self, X):\n",
    "        # Return predicted probabilities of the positive class as feature\n",
    "        return self.model.predict_proba(X)[:, 1].reshape(-1, 1)"
   ]
  },
  {
   "cell_type": "code",
   "execution_count": 11,
   "id": "cc822a00-b610-44af-be27-0360cbf692f8",
   "metadata": {},
   "outputs": [],
   "source": [
    "from sklearn.metrics import accuracy_score,precision_score,precision_recall_curve,f1_score"
   ]
  },
  {
   "cell_type": "code",
   "execution_count": 12,
   "id": "20ac2db8-ddef-43ec-b261-71616945169b",
   "metadata": {},
   "outputs": [
    {
     "data": {
      "text/plain": [
       "0.8185224209175564"
      ]
     },
     "execution_count": 12,
     "metadata": {},
     "output_type": "execute_result"
    }
   ],
   "source": [
    "accuracy_score(y_pred_xgb,y_test)"
   ]
  },
  {
   "cell_type": "code",
   "execution_count": 13,
   "id": "88b38d3c-d857-481e-8a67-3c34e57a4994",
   "metadata": {},
   "outputs": [
    {
     "data": {
      "text/plain": [
       "0.9954433068991411"
      ]
     },
     "execution_count": 13,
     "metadata": {},
     "output_type": "execute_result"
    }
   ],
   "source": [
    "precision_score(y_pred_xgb,y_test)"
   ]
  },
  {
   "cell_type": "code",
   "execution_count": 36,
   "id": "6430cdda-ad45-49c4-9194-57f488ce77ff",
   "metadata": {},
   "outputs": [
    {
     "data": {
      "text/plain": [
       "(339772, array([1, 1, 1, ..., 1, 1, 1], shape=(339772,)))"
      ]
     },
     "execution_count": 36,
     "metadata": {},
     "output_type": "execute_result"
    }
   ],
   "source": [
    "len(X_test['fare_amount']),y_pred_xgb"
   ]
  },
  {
   "cell_type": "code",
   "execution_count": 41,
   "id": "001e651a-8068-407a-aa5d-b4f1b64c7d5e",
   "metadata": {},
   "outputs": [
    {
     "data": {
      "text/plain": [
       "<matplotlib.collections.PathCollection at 0x738efa5bfa70>"
      ]
     },
     "execution_count": 41,
     "metadata": {},
     "output_type": "execute_result"
    },
    {
     "data": {
      "image/png": "[encoded data removed]",
      "text/plain": [
       "<Figure size 640x480 with 1 Axes>"
      ]
     },
     "metadata": {},
     "output_type": "display_data"
    }
   ],
   "source": [
    "plt.scatter(X_test['fare_amount'],y_pred_xgb)"
   ]
  },
  {
   "cell_type": "code",
   "execution_count": 30,
   "id": "b293acc9-44bf-4aad-91b1-18928210012c",
   "metadata": {
    "scrolled": true
   },
   "outputs": [
    {
     "data": {
      "text/plain": [
       "['0',\n",
       " '1',\n",
       " '2',\n",
       " '3',\n",
       " '4',\n",
       " '5',\n",
       " '6',\n",
       " '7',\n",
       " '8',\n",
       " '9',\n",
       " '10',\n",
       " '11',\n",
       " '12',\n",
       " '13',\n",
       " '14',\n",
       " '15',\n",
       " '16',\n",
       " '17',\n",
       " '18',\n",
       " '19',\n",
       " '20',\n",
       " '21',\n",
       " '22',\n",
       " '23',\n",
       " '24',\n",
       " '25',\n",
       " '26',\n",
       " '27',\n",
       " '28',\n",
       " '29',\n",
       " '30',\n",
       " '31',\n",
       " '32',\n",
       " '33',\n",
       " '34',\n",
       " '35',\n",
       " '36',\n",
       " '37',\n",
       " '38',\n",
       " '39',\n",
       " '40',\n",
       " '41',\n",
       " '42',\n",
       " '43',\n",
       " '44']"
      ]
     },
     "execution_count": 30,
     "metadata": {},
     "output_type": "execute_result"
    }
   ],
   "source": [
    "model = catBoost['model']\n",
    "model.feature_names_"
   ]
  },
  {
   "cell_type": "code",
   "execution_count": 16,
   "id": "8a545413-d8df-4780-916f-6f4ebbffed34",
   "metadata": {},
   "outputs": [
    {
     "ename": "AttributeError",
     "evalue": "'CatBoostClassifier' object has no attribute 'decision_function'",
     "output_type": "error",
     "traceback": [
      "\u001b[31m---------------------------------------------------------------------------\u001b[39m",
      "\u001b[31mAttributeError\u001b[39m                            Traceback (most recent call last)",
      "\u001b[36mCell\u001b[39m\u001b[36m \u001b[39m\u001b[32mIn[16]\u001b[39m\u001b[32m, line 3\u001b[39m\n\u001b[32m      1\u001b[39m \u001b[38;5;28;01mfrom\u001b[39;00m\u001b[38;5;250m \u001b[39m\u001b[34;01msklearn\u001b[39;00m\u001b[34;01m.\u001b[39;00m\u001b[34;01mmetrics\u001b[39;00m\u001b[38;5;250m \u001b[39m\u001b[38;5;28;01mimport\u001b[39;00m PrecisionRecallDisplay\n\u001b[32m----> \u001b[39m\u001b[32m3\u001b[39m y_score = \u001b[43mcatBoost\u001b[49m\u001b[43m[\u001b[49m\u001b[33;43m'\u001b[39;49m\u001b[33;43mmodel\u001b[39;49m\u001b[33;43m'\u001b[39;49m\u001b[43m]\u001b[49m\u001b[43m.\u001b[49m\u001b[43mdecision_function\u001b[49m(X_test)\n\u001b[32m      5\u001b[39m display = PrecisionRecallDisplay.from_predictions(\n\u001b[32m      6\u001b[39m     y_test, y_score, name=\u001b[33m\"\u001b[39m\u001b[33mLinearSVC\u001b[39m\u001b[33m\"\u001b[39m, plot_chance_level=\u001b[38;5;28;01mTrue\u001b[39;00m, despine=\u001b[38;5;28;01mTrue\u001b[39;00m\n\u001b[32m      7\u001b[39m )\n\u001b[32m      8\u001b[39m _ = display.ax_.set_title(\u001b[33m\"\u001b[39m\u001b[33m2-class Precision-Recall curve\u001b[39m\u001b[33m\"\u001b[39m)\n",
      "\u001b[31mAttributeError\u001b[39m: 'CatBoostClassifier' object has no attribute 'decision_function'"
     ]
    }
   ],
   "source": [
    "from sklearn.metrics import PrecisionRecallDisplay\n",
    "\n",
    "y_score = catBoost['model'].decision_function(X_test)\n",
    "\n",
    "display = PrecisionRecallDisplay.from_predictions(\n",
    "    y_test, y_score, name=\"LinearSVC\", plot_chance_level=True, despine=True\n",
    ")\n",
    "_ = display.ax_.set_title(\"2-class Precision-Recall curve\")"
   ]
  },
  {
   "cell_type": "markdown",
   "id": "bb3a993c-4603-4a1a-b317-93d20ffaafa9",
   "metadata": {},
   "source": [
    "## RandomForestRegressor"
   ]
  },
  {
   "cell_type": "code",
   "execution_count": 10,
   "id": "13c3d279-7d40-45e1-afe0-3b6f4a677026",
   "metadata": {},
   "outputs": [
    {
     "name": "stderr",
     "output_type": "stream",
     "text": [
      "/media/itoumpalidis/SlowHDD/linux_part/t2l/nyc_taxi_tips/.venv/lib/python3.12/site-packages/sklearn/base.py:1389: DataConversionWarning: A column-vector y was passed when a 1d array was expected. Please change the shape of y to (n_samples,), for example using ravel().\n",
      "  return fit_method(estimator, *args, **kwargs)\n"
     ]
    },
    {
     "name": "stdout",
     "output_type": "stream",
     "text": [
      "RFRegressor          | MSE: 3.6061 | R²: 0.6995\n"
     ]
    }
   ],
   "source": [
    "from sklearn.ensemble import RandomForestRegressor\n",
    "clean_df=pd.read_parquet(f'{dataPath}/clean_sample.parquet')\n",
    "\n",
    "\n",
    "#split the df two to parts \n",
    "X=clean_df[[\"fare_amount\",'Airport_flag','trip_distance','congestion_surcharge_flag','mta_tax_flag']]\n",
    "y=clean_df[[\"tip_amount\"]]\n",
    "\n",
    "# 🪓 Train/Test split\n",
    "X_train, X_test, y_train, y_test = train_test_split(X, y, test_size=0.2, random_state=42)\n",
    "\n",
    "\n",
    "rf = RandomForestRegressor(n_estimators=100, max_depth=10, max_features='sqrt')\n",
    "rf.fit(X_train, y_train)\n",
    "y_pred_rfr = rf.predict(X_test)\n",
    "eval_model('RFRegressor',y_pred_rfr,y_test)"
   ]
  },
  {
   "cell_type": "markdown",
   "id": "d0c60c0a-d81d-4980-af5e-b2dec6d0f185",
   "metadata": {},
   "source": [
    "we test if including PULocationID and DOLocation in the model increase the performance of the model"
   ]
  },
  {
   "cell_type": "code",
   "execution_count": 10,
   "id": "b6273113-9602-4ee5-bbf6-6d42bff9691d",
   "metadata": {},
   "outputs": [],
   "source": [
    "indices = np.arange(len(clean_df))\n",
    "\n",
    "# encode PULocationID and DOLocationID\n",
    "encoder = OneHotEncoder(handle_unknown='ignore',sparse_output=False)\n",
    "spatial_array = encoder.fit_transform(clean_df[['PULocationID','DOLocationID']])\n",
    "\n",
    "# 🪓 Train/Test split\n",
    "train_idx, test_idx = train_test_split(indices, test_size=0.2, random_state=42)\n",
    "\n",
    "X_train = X.iloc[train_idx]\n",
    "X_test = X.iloc[test_idx]\n",
    "\n",
    "y_train = y.iloc[train_idx]\n",
    "y_test = y.iloc[test_idx]"
   ]
  },
  {
   "cell_type": "code",
   "execution_count": 14,
   "id": "07bb76c9-0bf2-4157-b4ae-c0d4cd4ffb05",
   "metadata": {},
   "outputs": [
    {
     "name": "stderr",
     "output_type": "stream",
     "text": [
      "/media/itoumpalidis/SlowHDD/linux_part/t2l/nyc_taxi_tips/.venv/lib/python3.12/site-packages/sklearn/base.py:1389: DataConversionWarning: A column-vector y was passed when a 1d array was expected. Please change the shape of y to (n_samples,), for example using ravel().\n",
      "  return fit_method(estimator, *args, **kwargs)\n"
     ]
    },
    {
     "name": "stdout",
     "output_type": "stream",
     "text": [
      "RFRegressor          | MSE: 5.5371 | R²: 0.0428\n"
     ]
    }
   ],
   "source": [
    "x_train = np.concatenate((X_train,spatial_array[train_idx]),axis=1)\n",
    "\n",
    "rf.fit(x_train, y_train)\n",
    "\n",
    "x_test = np.concatenate((X_test,spatial_array[test_idx]),axis=1)\n",
    "\n",
    "y_pred_rfr = rf.predict(x_test)\n",
    "eval_model('RFRegressor',y_pred_rfr,y_test)"
   ]
  },
  {
   "cell_type": "markdown",
   "id": "b6a4b4c9-6a4c-489f-9641-737defb576f6",
   "metadata": {},
   "source": [
    "## HistGradientBoostingRegressor"
   ]
  },
  {
   "cell_type": "code",
   "execution_count": 11,
   "id": "a78ab111-c626-4604-b4e4-737c561bdf43",
   "metadata": {},
   "outputs": [],
   "source": [
    "from sklearn.ensemble import HistGradientBoostingRegressor\n"
   ]
  },
  {
   "cell_type": "code",
   "execution_count": 12,
   "id": "272b1bcb-fe05-4da4-98ac-ef84a1dcf0f5",
   "metadata": {},
   "outputs": [],
   "source": [
    "clean_df=pd.read_parquet(f'{dataPath}/clean_sample.parquet')\n"
   ]
  },
  {
   "cell_type": "code",
   "execution_count": 13,
   "id": "bc8eb98e-0c7e-4b03-83a9-5b319e56d4cc",
   "metadata": {},
   "outputs": [],
   "source": [
    "numerical_cols=['fare_amount','trip_distance','duration_s']\n",
    "\n",
    "\n",
    "categorical_cols = ['RatecodeID', \n",
    "                    'store_and_fwd_flag',\n",
    "                    'PULocationID', \n",
    "                    'DOLocationID',\n",
    "                    'pu_day',\n",
    "                    'pu_hour',\n",
    "                    'Airport_flag',\n",
    "                    'congestion_surcharge_flag',\n",
    "                    'is_weekend',\n",
    "                    'is_night',\n",
    "                    'mta_tax_flag'\n",
    "]"
   ]
  },
  {
   "cell_type": "code",
   "execution_count": 14,
   "id": "fbe0532d-2705-4ea9-8727-c3433700f1f4",
   "metadata": {},
   "outputs": [],
   "source": [
    "# No imputer here\n",
    "categorical_transformer = Pipeline([\n",
    "    ('encoder', OneHotEncoder(handle_unknown='ignore', sparse_output=False))\n",
    "])\n",
    "\n",
    "# Pass-through numerical features as-is (no imputation)\n",
    "preprocessor = ColumnTransformer(transformers=[\n",
    "    ('cat', categorical_transformer, categorical_cols),\n",
    "    ('num', 'passthrough', numerical_cols)\n",
    "])"
   ]
  },
  {
   "cell_type": "code",
   "execution_count": 15,
   "id": "eef54172-70a1-48e9-9231-4778a5fb4220",
   "metadata": {},
   "outputs": [],
   "source": [
    "X=clean_df[numerical_cols+categorical_cols]\n",
    "y=clean_df['tip_amount']\n",
    "\n",
    "X_train, X_test, y_train, y_test = train_test_split(\n",
    "    X, y, test_size=0.2, random_state=42\n",
    ")"
   ]
  },
  {
   "cell_type": "code",
   "execution_count": 16,
   "id": "1edccb93-e3d3-4a1d-89f6-3a1428b808bf",
   "metadata": {},
   "outputs": [],
   "source": [
    "pipe_hist = Pipeline([\n",
    "    ('preprocess', preprocessor),\n",
    "    ('model', HistGradientBoostingRegressor(random_state=42))\n",
    "])\n"
   ]
  },
  {
   "cell_type": "code",
   "execution_count": 17,
   "id": "29cdc635-c51a-40f2-a346-40877bc19b1f",
   "metadata": {
    "scrolled": true
   },
   "outputs": [],
   "source": [
    "\n",
    "pipe_hist.fit(X_train, np.log(y_train))\n",
    "y_pred_hist = pipe_hist.predict(X_test)"
   ]
  },
  {
   "cell_type": "code",
   "execution_count": 18,
   "id": "94a89474-2b94-4d38-bc2b-36adb4ab0951",
   "metadata": {},
   "outputs": [
    {
     "name": "stdout",
     "output_type": "stream",
     "text": [
      "MAE: 0.298\n",
      "MSE: 0.222\n",
      "RMSE: 0.471\n",
      "R²: 0.565\n"
     ]
    }
   ],
   "source": [
    "# Evaluation metrics\n",
    "mae = mean_absolute_error(np.log(y_test), y_pred_hist)\n",
    "mse = mean_squared_error(np.log(y_test), y_pred_hist)\n",
    "rmse = np.sqrt(mse)\n",
    "r2 = r2_score(np.log(y_test), y_pred_hist)\n",
    "\n",
    "# Print metrics\n",
    "print(f\"MAE: {mae:.3f}\")\n",
    "print(f\"MSE: {mse:.3f}\")\n",
    "print(f\"RMSE: {rmse:.3f}\")\n",
    "print(f\"R²: {r2:.3f}\")\n"
   ]
  },
  {
   "cell_type": "code",
   "execution_count": 19,
   "id": "2ac61305-c25c-4250-9383-6c6f4fbe09ab",
   "metadata": {},
   "outputs": [
    {
     "data": {
      "text/plain": [
       "<matplotlib.collections.PathCollection at 0x76a4d403c920>"
      ]
     },
     "execution_count": 19,
     "metadata": {},
     "output_type": "execute_result"
    },
    {
     "data": {
      "image/png": "[encoded data removed]",
      "text/plain": [
       "<Figure size 640x480 with 1 Axes>"
      ]
     },
     "metadata": {},
     "output_type": "display_data"
    }
   ],
   "source": [
    "plt.scatter(y_test, np.log(y_test)-y_pred_hist,s=1)"
   ]
  },
  {
   "cell_type": "code",
   "execution_count": 31,
   "id": "3770ca55-979a-44aa-a53b-934aaa7192d0",
   "metadata": {
    "scrolled": true
   },
   "outputs": [],
   "source": [
    "import shap\n",
    "\n",
    "\n",
    "# 2. Extract the trained preprocessor and regressor\n",
    "preprocessor = catBoost.named_steps['preprocess']\n",
    "regressor = catBoost.named_steps['model']\n",
    "\n",
    "# 3. Transform the input features for SHAP\n",
    "X_train_transformed = preprocessor.transform(X_train)\n",
    "X_test_transformed = preprocessor.transform(X_test)\n",
    "\n",
    "# 4. Use SHAP TreeExplainer on the final estimator\n",
    "explainer = shap.Explainer(regressor, X_train_transformed[0:1000])\n"
   ]
  },
  {
   "cell_type": "code",
   "execution_count": 32,
   "id": "f44d0eeb-cb76-4f05-b0e4-9a8dc3d53231",
   "metadata": {},
   "outputs": [
    {
     "name": "stderr",
     "output_type": "stream",
     "text": [
      "100%|===================| 339494/339772 [08:45<00:00]        "
     ]
    }
   ],
   "source": [
    "shap_values = explainer(X_test_transformed,check_additivity=False)\n"
   ]
  },
  {
   "cell_type": "code",
   "execution_count": 36,
   "id": "22878e0c-797c-467a-a114-df1ee60aa6ba",
   "metadata": {
    "scrolled": true
   },
   "outputs": [],
   "source": [
    "ohe = preprocessor.named_transformers_['cat'].named_steps['encoder']\n",
    "encoded_cat_cols = ohe.get_feature_names_out(categorical_cols)\n",
    "\n",
    "feature_names = list(encoded_cat_cols) + numerical_cols\n"
   ]
  },
  {
   "cell_type": "code",
   "execution_count": 37,
   "id": "ac8dc128-ef64-4a1c-9be7-ed5ebae25020",
   "metadata": {},
   "outputs": [
    {
     "data": {
      "image/png": "[encoded data removed]",
      "text/plain": [
       "<Figure size 800x950 with 2 Axes>"
      ]
     },
     "metadata": {},
     "output_type": "display_data"
    }
   ],
   "source": [
    "\n",
    "# 5. Visualize\n",
    "shap.summary_plot(shap_values, X_test_transformed,feature_names=feature_names)"
   ]
  },
  {
   "cell_type": "markdown",
   "id": "241c2310-0ff1-42aa-97ad-34f5d4d680fd",
   "metadata": {
    "jp-MarkdownHeadingCollapsed": true
   },
   "source": [
    "## XGBOOST"
   ]
  },
  {
   "cell_type": "code",
   "execution_count": 32,
   "id": "521e8c3e-ebdd-425f-96df-1867378d362e",
   "metadata": {},
   "outputs": [],
   "source": [
    "from xgboost import XGBRegressor\n",
    "\n",
    "pipe_xgb = Pipeline([\n",
    "    ('preprocess', preprocessor),\n",
    "    ('model', XGBRegressor(\n",
    "        objective='reg:squarederror',\n",
    "        n_estimators=100,\n",
    "        learning_rate=0.1,\n",
    "        max_depth=6,\n",
    "        random_state=42,\n",
    "        tree_method='hist'\n",
    "    ))\n",
    "])\n",
    "\n",
    "pipe_xgb.fit(X_train, y_train)\n",
    "y_pred_xgb = pipe_xgb.predict(X_test)"
   ]
  },
  {
   "cell_type": "code",
   "execution_count": 33,
   "id": "65038846-b83c-4508-9f2d-270ee1999535",
   "metadata": {},
   "outputs": [
    {
     "name": "stdout",
     "output_type": "stream",
     "text": [
      "MAE: 0.998\n",
      "MSE: 3.233\n",
      "RMSE: 1.798\n",
      "R²: 0.766\n"
     ]
    }
   ],
   "source": [
    "# Evaluation metrics\n",
    "mae = mean_absolute_error(y_test, y_pred_xgb)\n",
    "mse = mean_squared_error(y_test, y_pred_xgb)\n",
    "rmse = np.sqrt(mse)\n",
    "r2 = r2_score(y_test, y_pred_xgb)\n",
    "\n",
    "# Print metrics\n",
    "print(f\"MAE: {mae:.3f}\")\n",
    "print(f\"MSE: {mse:.3f}\")\n",
    "print(f\"RMSE: {rmse:.3f}\")\n",
    "print(f\"R²: {r2:.3f}\")\n"
   ]
  },
  {
   "cell_type": "code",
   "execution_count": 34,
   "id": "4d1fe2bf-4b85-4f4c-b860-6f2287fefb49",
   "metadata": {},
   "outputs": [
    {
     "data": {
      "text/plain": [
       "<matplotlib.collections.PathCollection at 0x76a49a040200>"
      ]
     },
     "execution_count": 34,
     "metadata": {},
     "output_type": "execute_result"
    },
    {
     "data": {
      "image/png": "[encoded data removed]",
      "text/plain": [
       "<Figure size 640x480 with 1 Axes>"
      ]
     },
     "metadata": {},
     "output_type": "display_data"
    }
   ],
   "source": [
    "plt.scatter(y_test, y_test-y_pred_xgb,s=1)"
   ]
  },
  {
   "cell_type": "markdown",
   "id": "b30640d8-16d5-4a91-8f90-981707977f0d",
   "metadata": {},
   "source": [
    "## CatBoost"
   ]
  },
  {
   "cell_type": "code",
   "execution_count": null,
   "id": "d76bf8bf-30cc-436e-a8b8-b8c363f0b537",
   "metadata": {},
   "outputs": [],
   "source": [
    "from catboost import CatBoostRegressor\n",
    "clean_df=pd.read_parquet(f'{dataPath}/clean_sample.parquet')"
   ]
  },
  {
   "cell_type": "code",
   "execution_count": null,
   "id": "912a2a8b-b1cd-49f6-abf6-6a2d21206cbb",
   "metadata": {},
   "outputs": [],
   "source": [
    "numerical_cols=['fare_amount','trip_distance','extra','tolls_amount']\n",
    "\n",
    "\n",
    "categorical_cols = ['pu_day',\n",
    "                    'pu_hour',\n",
    "                    'Airport_flag',\n",
    "                    'congestion_surcharge_flag',\n",
    "                    'is_weekend',\n",
    "                    'is_night',\n",
    "                    'mta_tax_flag'\n",
    "]"
   ]
  },
  {
   "cell_type": "code",
   "execution_count": 11,
   "id": "d7e97243-5336-4e7a-9fab-02804eb94ff1",
   "metadata": {},
   "outputs": [],
   "source": [
    "\n",
    "X=clean_df[numerical_cols+categorical_cols]\n",
    "y=clean_df['tip_amount']\n",
    "\n",
    "X_train, X_test, y_train, y_test = train_test_split(\n",
    "    X, y, test_size=0.2, random_state=42\n",
    ")"
   ]
  },
  {
   "cell_type": "code",
   "execution_count": 12,
   "id": "7a666784-30ca-4dbe-89f0-594ae2e2ca0f",
   "metadata": {},
   "outputs": [
    {
     "name": "stderr",
     "output_type": "stream",
     "text": [
      "2025/06/02 15:29:34 INFO mlflow.utils.autologging_utils: Created MLflow autologging run with ID '1336d335e4674bbe919ec83be034cb84', which will track hyperparameters, performance metrics, model artifacts, and lineage information for the current sklearn workflow\n",
      "2025/06/02 15:29:39 WARNING mlflow.utils.autologging_utils: MLflow autologging encountered a warning: \"/home/itoumpalidis/work/git/nyc_taxi_tips/.venv/lib/python3.12/site-packages/mlflow/types/utils.py:452: UserWarning: Hint: Inferred schema contains integer column(s). Integer columns in Python cannot represent missing values. If your input data contains missing values at inference time, it will be encoded as floats and will cause a schema enforcement error. The best way to avoid this problem is to infer the model schema based on a realistic data sample (training dataset) that includes missing values. Alternatively, you can declare integer columns as doubles (float64) whenever these columns may have missing values. See `Handling Integers With Missing Values <https://www.mlflow.org/docs/latest/models.html#handling-integers-with-missing-values>`_ for more details.\"\n"
     ]
    },
    {
     "name": "stdout",
     "output_type": "stream",
     "text": [
      "0:\tlearn: 3.6599797\ttotal: 23.3ms\tremaining: 6.97s\n",
      "50:\tlearn: 1.4534304\ttotal: 1.21s\tremaining: 5.91s\n",
      "100:\tlearn: 1.3097278\ttotal: 2.36s\tremaining: 4.66s\n",
      "150:\tlearn: 1.2058839\ttotal: 3.52s\tremaining: 3.47s\n",
      "200:\tlearn: 1.1272601\ttotal: 4.71s\tremaining: 2.32s\n",
      "250:\tlearn: 1.0671912\ttotal: 5.82s\tremaining: 1.14s\n",
      "299:\tlearn: 1.0126136\ttotal: 6.95s\tremaining: 0us\n"
     ]
    },
    {
     "name": "stderr",
     "output_type": "stream",
     "text": [
      "2025/06/02 15:30:14 WARNING mlflow.utils.autologging_utils: MLflow autologging encountered a warning: \"/home/itoumpalidis/work/git/nyc_taxi_tips/.venv/lib/python3.12/site-packages/mlflow/types/utils.py:452: UserWarning: Hint: Inferred schema contains integer column(s). Integer columns in Python cannot represent missing values. If your input data contains missing values at inference time, it will be encoded as floats and will cause a schema enforcement error. The best way to avoid this problem is to infer the model schema based on a realistic data sample (training dataset) that includes missing values. Alternatively, you can declare integer columns as doubles (float64) whenever these columns may have missing values. See `Handling Integers With Missing Values <https://www.mlflow.org/docs/latest/models.html#handling-integers-with-missing-values>`_ for more details.\"\n",
      "2025/06/02 15:30:15 WARNING mlflow.utils.environment: Failed to resolve installed pip version. ``pip`` will be added to conda.yaml environment spec without a version specifier.\n"
     ]
    },
    {
     "name": "stdout",
     "output_type": "stream",
     "text": [
      "🏃 View run selective-carp-682 at: http://localhost:5000/#/experiments/0/runs/1336d335e4674bbe919ec83be034cb84\n",
      "🧪 View experiment at: http://localhost:5000/#/experiments/0\n"
     ]
    },
    {
     "name": "stderr",
     "output_type": "stream",
     "text": [
      "2025/06/02 15:30:19 WARNING mlflow.utils.autologging_utils: MLflow autologging encountered a warning: \"/home/itoumpalidis/work/git/nyc_taxi_tips/.venv/lib/python3.12/site-packages/mlflow/types/utils.py:452: UserWarning: Hint: Inferred schema contains integer column(s). Integer columns in Python cannot represent missing values. If your input data contains missing values at inference time, it will be encoded as floats and will cause a schema enforcement error. The best way to avoid this problem is to infer the model schema based on a realistic data sample (training dataset) that includes missing values. Alternatively, you can declare integer columns as doubles (float64) whenever these columns may have missing values. See `Handling Integers With Missing Values <https://www.mlflow.org/docs/latest/models.html#handling-integers-with-missing-values>`_ for more details.\"\n"
     ]
    },
    {
     "name": "stdout",
     "output_type": "stream",
     "text": [
      "MAE: 0.474\n",
      "MSE: 1.051\n",
      "RMSE: 1.025\n",
      "R²: 0.933\n"
     ]
    }
   ],
   "source": [
    "# cat_params = {\n",
    "#     'n_estimators': 100,\n",
    "#     'learning_rate': 0.10899577626375372,\n",
    "#     'depth': 7,\n",
    "#     'colsample_bylevel': 0.7340962061535496,\n",
    "#     'random_strength': 6.262882561405091,\n",
    "#     'min_data_in_leaf': 92,\n",
    "#     'verbose': 0\n",
    "# } \n",
    "\n",
    "cat_params = {\n",
    "    'iterations': 300,\n",
    "    'learning_rate': 0.1,\n",
    "    'depth': 4,\n",
    "    'bootstrap_type': 'Bernoulli',\n",
    "    'subsample': 0.7,\n",
    "    'verbose': 50,\n",
    "    'early_stopping_rounds': 30,\n",
    "    'random_seed': 42,\n",
    "    'task_type': 'CPU',\n",
    "    'one_hot_max_size': 2,\n",
    "}\n",
    "\n",
    "# No imputer here\n",
    "categorical_transformer = Pipeline([\n",
    "    ('encoder', OneHotEncoder(handle_unknown='ignore', sparse_output=False))\n",
    "])\n",
    "\n",
    "# Pass-through numerical features as-is (no imputation)\n",
    "preprocessor = ColumnTransformer(transformers=[\n",
    "    ('cat', categorical_transformer, categorical_cols),\n",
    "    ('num', 'passthrough', numerical_cols)\n",
    "])\n",
    "\n",
    "catBoost = Pipeline([\n",
    "    ('preprocess', preprocessor),\n",
    "    ('model', CatBoostRegressor(**cat_params))\n",
    "])\n",
    "\n",
    "catBoost.fit(X_train, y_train)\n",
    "y_pred_xgb = catBoost.predict(X_test)\n",
    "\n",
    "\n",
    "# Evaluation metrics\n",
    "mae = mean_absolute_error(y_test, y_pred_xgb)\n",
    "mse = mean_squared_error(y_test, y_pred_xgb)\n",
    "rmse = np.sqrt(mse)\n",
    "r2 = r2_score(y_test, y_pred_xgb)\n",
    "\n",
    "# Print metrics\n",
    "print(f\"MAE: {mae:.3f}\")\n",
    "print(f\"MSE: {mse:.3f}\")\n",
    "print(f\"RMSE: {rmse:.3f}\")\n",
    "print(f\"R²: {r2:.3f}\")\n"
   ]
  },
  {
   "cell_type": "code",
   "execution_count": 14,
   "id": "4b548203-0447-42bc-8df7-c857adea9f64",
   "metadata": {},
   "outputs": [
    {
     "data": {
      "text/plain": [
       "['data/models/pipeline_model.joblib']"
      ]
     },
     "execution_count": 14,
     "metadata": {},
     "output_type": "execute_result"
    }
   ],
   "source": [
    "from joblib import dump, load\n",
    "\n",
    "dump(catBoost, 'data/models/pipeline_model.joblib')\n"
   ]
  },
  {
   "cell_type": "code",
   "execution_count": null,
   "id": "3202c2d3-3170-4c70-b321-81fbc2b3f4f4",
   "metadata": {},
   "outputs": [],
   "source": [
    "pipeline = load('pipeline_model.joblib')\n"
   ]
  },
  {
   "cell_type": "code",
   "execution_count": 25,
   "id": "da1c5c6e-a4e6-4ff0-be97-799c8173d5d5",
   "metadata": {
    "scrolled": true
   },
   "outputs": [
    {
     "ename": "ValueError",
     "evalue": "All arrays must be of the same length",
     "output_type": "error",
     "traceback": [
      "\u001b[31m---------------------------------------------------------------------------\u001b[39m",
      "\u001b[31mValueError\u001b[39m                                Traceback (most recent call last)",
      "\u001b[36mCell\u001b[39m\u001b[36m \u001b[39m\u001b[32mIn[25]\u001b[39m\u001b[32m, line 10\u001b[39m\n\u001b[32m      7\u001b[39m feature_names = X_train.columns\n\u001b[32m      9\u001b[39m \u001b[38;5;66;03m# Create a DataFrame to view the feature importance\u001b[39;00m\n\u001b[32m---> \u001b[39m\u001b[32m10\u001b[39m feature_importance_df = \u001b[43mpd\u001b[49m\u001b[43m.\u001b[49m\u001b[43mDataFrame\u001b[49m\u001b[43m(\u001b[49m\u001b[43m{\u001b[49m\n\u001b[32m     11\u001b[39m \u001b[43m    \u001b[49m\u001b[33;43m'\u001b[39;49m\u001b[33;43mFeature\u001b[39;49m\u001b[33;43m'\u001b[39;49m\u001b[43m:\u001b[49m\u001b[43m \u001b[49m\u001b[43mfeature_names\u001b[49m\u001b[43m,\u001b[49m\n\u001b[32m     12\u001b[39m \u001b[43m    \u001b[49m\u001b[33;43m'\u001b[39;49m\u001b[33;43mImportance\u001b[39;49m\u001b[33;43m'\u001b[39;49m\u001b[43m:\u001b[49m\u001b[43m \u001b[49m\u001b[43mfeature_importance\u001b[49m\n\u001b[32m     13\u001b[39m \u001b[43m}\u001b[49m\u001b[43m)\u001b[49m\n\u001b[32m     15\u001b[39m \u001b[38;5;28mprint\u001b[39m(feature_importance_df.sort_values(by=\u001b[33m'\u001b[39m\u001b[33mImportance\u001b[39m\u001b[33m'\u001b[39m, ascending=\u001b[38;5;28;01mFalse\u001b[39;00m))\n",
      "\u001b[36mFile \u001b[39m\u001b[32m~/work/git/nyc_taxi_tips/.venv/lib/python3.12/site-packages/pandas/core/frame.py:778\u001b[39m, in \u001b[36mDataFrame.__init__\u001b[39m\u001b[34m(self, data, index, columns, dtype, copy)\u001b[39m\n\u001b[32m    772\u001b[39m     mgr = \u001b[38;5;28mself\u001b[39m._init_mgr(\n\u001b[32m    773\u001b[39m         data, axes={\u001b[33m\"\u001b[39m\u001b[33mindex\u001b[39m\u001b[33m\"\u001b[39m: index, \u001b[33m\"\u001b[39m\u001b[33mcolumns\u001b[39m\u001b[33m\"\u001b[39m: columns}, dtype=dtype, copy=copy\n\u001b[32m    774\u001b[39m     )\n\u001b[32m    776\u001b[39m \u001b[38;5;28;01melif\u001b[39;00m \u001b[38;5;28misinstance\u001b[39m(data, \u001b[38;5;28mdict\u001b[39m):\n\u001b[32m    777\u001b[39m     \u001b[38;5;66;03m# GH#38939 de facto copy defaults to False only in non-dict cases\u001b[39;00m\n\u001b[32m--> \u001b[39m\u001b[32m778\u001b[39m     mgr = \u001b[43mdict_to_mgr\u001b[49m\u001b[43m(\u001b[49m\u001b[43mdata\u001b[49m\u001b[43m,\u001b[49m\u001b[43m \u001b[49m\u001b[43mindex\u001b[49m\u001b[43m,\u001b[49m\u001b[43m \u001b[49m\u001b[43mcolumns\u001b[49m\u001b[43m,\u001b[49m\u001b[43m \u001b[49m\u001b[43mdtype\u001b[49m\u001b[43m=\u001b[49m\u001b[43mdtype\u001b[49m\u001b[43m,\u001b[49m\u001b[43m \u001b[49m\u001b[43mcopy\u001b[49m\u001b[43m=\u001b[49m\u001b[43mcopy\u001b[49m\u001b[43m,\u001b[49m\u001b[43m \u001b[49m\u001b[43mtyp\u001b[49m\u001b[43m=\u001b[49m\u001b[43mmanager\u001b[49m\u001b[43m)\u001b[49m\n\u001b[32m    779\u001b[39m \u001b[38;5;28;01melif\u001b[39;00m \u001b[38;5;28misinstance\u001b[39m(data, ma.MaskedArray):\n\u001b[32m    780\u001b[39m     \u001b[38;5;28;01mfrom\u001b[39;00m\u001b[38;5;250m \u001b[39m\u001b[34;01mnumpy\u001b[39;00m\u001b[34;01m.\u001b[39;00m\u001b[34;01mma\u001b[39;00m\u001b[38;5;250m \u001b[39m\u001b[38;5;28;01mimport\u001b[39;00m mrecords\n",
      "\u001b[36mFile \u001b[39m\u001b[32m~/work/git/nyc_taxi_tips/.venv/lib/python3.12/site-packages/pandas/core/internals/construction.py:503\u001b[39m, in \u001b[36mdict_to_mgr\u001b[39m\u001b[34m(data, index, columns, dtype, typ, copy)\u001b[39m\n\u001b[32m    499\u001b[39m     \u001b[38;5;28;01melse\u001b[39;00m:\n\u001b[32m    500\u001b[39m         \u001b[38;5;66;03m# dtype check to exclude e.g. range objects, scalars\u001b[39;00m\n\u001b[32m    501\u001b[39m         arrays = [x.copy() \u001b[38;5;28;01mif\u001b[39;00m \u001b[38;5;28mhasattr\u001b[39m(x, \u001b[33m\"\u001b[39m\u001b[33mdtype\u001b[39m\u001b[33m\"\u001b[39m) \u001b[38;5;28;01melse\u001b[39;00m x \u001b[38;5;28;01mfor\u001b[39;00m x \u001b[38;5;129;01min\u001b[39;00m arrays]\n\u001b[32m--> \u001b[39m\u001b[32m503\u001b[39m \u001b[38;5;28;01mreturn\u001b[39;00m \u001b[43marrays_to_mgr\u001b[49m\u001b[43m(\u001b[49m\u001b[43marrays\u001b[49m\u001b[43m,\u001b[49m\u001b[43m \u001b[49m\u001b[43mcolumns\u001b[49m\u001b[43m,\u001b[49m\u001b[43m \u001b[49m\u001b[43mindex\u001b[49m\u001b[43m,\u001b[49m\u001b[43m \u001b[49m\u001b[43mdtype\u001b[49m\u001b[43m=\u001b[49m\u001b[43mdtype\u001b[49m\u001b[43m,\u001b[49m\u001b[43m \u001b[49m\u001b[43mtyp\u001b[49m\u001b[43m=\u001b[49m\u001b[43mtyp\u001b[49m\u001b[43m,\u001b[49m\u001b[43m \u001b[49m\u001b[43mconsolidate\u001b[49m\u001b[43m=\u001b[49m\u001b[43mcopy\u001b[49m\u001b[43m)\u001b[49m\n",
      "\u001b[36mFile \u001b[39m\u001b[32m~/work/git/nyc_taxi_tips/.venv/lib/python3.12/site-packages/pandas/core/internals/construction.py:114\u001b[39m, in \u001b[36marrays_to_mgr\u001b[39m\u001b[34m(arrays, columns, index, dtype, verify_integrity, typ, consolidate)\u001b[39m\n\u001b[32m    111\u001b[39m \u001b[38;5;28;01mif\u001b[39;00m verify_integrity:\n\u001b[32m    112\u001b[39m     \u001b[38;5;66;03m# figure out the index, if necessary\u001b[39;00m\n\u001b[32m    113\u001b[39m     \u001b[38;5;28;01mif\u001b[39;00m index \u001b[38;5;129;01mis\u001b[39;00m \u001b[38;5;28;01mNone\u001b[39;00m:\n\u001b[32m--> \u001b[39m\u001b[32m114\u001b[39m         index = \u001b[43m_extract_index\u001b[49m\u001b[43m(\u001b[49m\u001b[43marrays\u001b[49m\u001b[43m)\u001b[49m\n\u001b[32m    115\u001b[39m     \u001b[38;5;28;01melse\u001b[39;00m:\n\u001b[32m    116\u001b[39m         index = ensure_index(index)\n",
      "\u001b[36mFile \u001b[39m\u001b[32m~/work/git/nyc_taxi_tips/.venv/lib/python3.12/site-packages/pandas/core/internals/construction.py:677\u001b[39m, in \u001b[36m_extract_index\u001b[39m\u001b[34m(data)\u001b[39m\n\u001b[32m    675\u001b[39m lengths = \u001b[38;5;28mlist\u001b[39m(\u001b[38;5;28mset\u001b[39m(raw_lengths))\n\u001b[32m    676\u001b[39m \u001b[38;5;28;01mif\u001b[39;00m \u001b[38;5;28mlen\u001b[39m(lengths) > \u001b[32m1\u001b[39m:\n\u001b[32m--> \u001b[39m\u001b[32m677\u001b[39m     \u001b[38;5;28;01mraise\u001b[39;00m \u001b[38;5;167;01mValueError\u001b[39;00m(\u001b[33m\"\u001b[39m\u001b[33mAll arrays must be of the same length\u001b[39m\u001b[33m\"\u001b[39m)\n\u001b[32m    679\u001b[39m \u001b[38;5;28;01mif\u001b[39;00m have_dicts:\n\u001b[32m    680\u001b[39m     \u001b[38;5;28;01mraise\u001b[39;00m \u001b[38;5;167;01mValueError\u001b[39;00m(\n\u001b[32m    681\u001b[39m         \u001b[33m\"\u001b[39m\u001b[33mMixing dicts with non-Series may lead to ambiguous ordering.\u001b[39m\u001b[33m\"\u001b[39m\n\u001b[32m    682\u001b[39m     )\n",
      "\u001b[31mValueError\u001b[39m: All arrays must be of the same length"
     ]
    }
   ],
   "source": [
    "model = catBoost['model']\n",
    "\n",
    "# Get feature importance\n",
    "feature_importance = model.get_feature_importance()\n",
    "\n",
    "# Get feature names\n",
    "feature_names = X_train.columns\n",
    "\n",
    "# Create a DataFrame to view the feature importance\n",
    "feature_importance_df = pd.DataFrame({\n",
    "    'Feature': feature_names,\n",
    "    'Importance': feature_importance\n",
    "})\n",
    "\n",
    "print(feature_importance_df.sort_values(by='Importance', ascending=False))"
   ]
  }
 ],
 "metadata": {
  "kernelspec": {
   "display_name": "Python 3 (ipykernel)",
   "language": "python",
   "name": "python3"
  },
  "language_info": {
   "codemirror_mode": {
    "name": "ipython",
    "version": 3
   },
   "file_extension": ".py",
   "mimetype": "text/x-python",
   "name": "python",
   "nbconvert_exporter": "python",
   "pygments_lexer": "ipython3",
   "version": "3.12.8"
  }
 },
 "nbformat": 4,
 "nbformat_minor": 5
}
