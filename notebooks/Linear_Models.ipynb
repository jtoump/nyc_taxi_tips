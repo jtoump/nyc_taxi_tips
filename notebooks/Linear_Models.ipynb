{
 "cells": [
  {
   "cell_type": "code",
   "execution_count": 2,
   "id": "b623350d-056a-45f4-ba06-acf5cedfaf99",
   "metadata": {},
   "outputs": [],
   "source": [
    "\n",
    "# import mlflow\n",
    "# mlflow.set_tracking_uri(\"http://localhost:5000\")\n",
    "# mlflow.sklearn.autolog()\n",
    "\n",
    "import os\n",
    "import pandas as pd\n",
    "import numpy as np\n",
    "import matplotlib.pyplot as plt\n",
    "from datetime import datetime\n",
    "from sklearn.linear_model import LinearRegression\n",
    "from sklearn.model_selection import train_test_split,cross_val_score\n",
    "from sklearn.metrics import r2_score\n",
    "from sklearn.metrics import mean_squared_error, r2_score,mean_absolute_error\n",
    "from sklearn.dummy import DummyRegressor\n",
    "from sklearn.tree import DecisionTreeRegressor\n",
    "from sklearn.pipeline import Pipeline\n",
    "from sklearn.compose import ColumnTransformer\n",
    "from sklearn.preprocessing import OneHotEncoder\n",
    "\n",
    "\n",
    "\n",
    "# 📋 Evaluation Function\n",
    "def eval_model(name, y_true, y_pred):\n",
    "    mse = mean_squared_error(y_true, y_pred)\n",
    "    r2 = r2_score(y_true, y_pred)\n",
    "    print(f\"{name:<20} | MSE: {mse:.4f} | R²: {r2:.4f}\")\n",
    "\n",
    "\n",
    "dataPath = os.path.join(\"./../data\")\n"
   ]
  },
  {
   "cell_type": "markdown",
   "id": "8cf2e710-34ff-4d91-8399-5039b1175d34",
   "metadata": {
    "jp-MarkdownHeadingCollapsed": true
   },
   "source": [
    "## Establishing base lines"
   ]
  },
  {
   "cell_type": "code",
   "execution_count": 3,
   "id": "18d39886-2411-4927-a1b9-0aeb14e470cf",
   "metadata": {},
   "outputs": [],
   "source": [
    "clean_df=pd.read_parquet(f'{dataPath}/clean_sample.parquet')"
   ]
  },
  {
   "cell_type": "code",
   "execution_count": 3,
   "id": "852739a2-e3b1-4082-a955-7b22503b9dcb",
   "metadata": {},
   "outputs": [
    {
     "data": {
      "text/html": [
       "<style type=\"text/css\">\n",
       "#T_f42e7_row0_col0, #T_f42e7_row1_col1, #T_f42e7_row2_col2, #T_f42e7_row3_col3, #T_f42e7_row4_col4, #T_f42e7_row5_col5, #T_f42e7_row6_col6, #T_f42e7_row7_col7, #T_f42e7_row8_col8 {\n",
       "  background-color: #b40426;\n",
       "  color: #f1f1f1;\n",
       "}\n",
       "#T_f42e7_row0_col1 {\n",
       "  background-color: #98b9ff;\n",
       "  color: #000000;\n",
       "}\n",
       "#T_f42e7_row0_col2 {\n",
       "  background-color: #4358cb;\n",
       "  color: #f1f1f1;\n",
       "}\n",
       "#T_f42e7_row0_col3, #T_f42e7_row0_col4, #T_f42e7_row3_col2, #T_f42e7_row5_col2 {\n",
       "  background-color: #4c66d6;\n",
       "  color: #f1f1f1;\n",
       "}\n",
       "#T_f42e7_row0_col5, #T_f42e7_row4_col0, #T_f42e7_row4_col8, #T_f42e7_row6_col7, #T_f42e7_row7_col1, #T_f42e7_row7_col3, #T_f42e7_row7_col4, #T_f42e7_row7_col6, #T_f42e7_row8_col2 {\n",
       "  background-color: #3b4cc0;\n",
       "  color: #f1f1f1;\n",
       "}\n",
       "#T_f42e7_row0_col6 {\n",
       "  background-color: #82a6fb;\n",
       "  color: #f1f1f1;\n",
       "}\n",
       "#T_f42e7_row0_col7 {\n",
       "  background-color: #b3cdfb;\n",
       "  color: #000000;\n",
       "}\n",
       "#T_f42e7_row0_col8 {\n",
       "  background-color: #9fbfff;\n",
       "  color: #000000;\n",
       "}\n",
       "#T_f42e7_row1_col0 {\n",
       "  background-color: #97b8ff;\n",
       "  color: #000000;\n",
       "}\n",
       "#T_f42e7_row1_col2, #T_f42e7_row8_col5 {\n",
       "  background-color: #506bda;\n",
       "  color: #f1f1f1;\n",
       "}\n",
       "#T_f42e7_row1_col3 {\n",
       "  background-color: #f7b194;\n",
       "  color: #000000;\n",
       "}\n",
       "#T_f42e7_row1_col4 {\n",
       "  background-color: #d65244;\n",
       "  color: #f1f1f1;\n",
       "}\n",
       "#T_f42e7_row1_col5 {\n",
       "  background-color: #b5cdfa;\n",
       "  color: #000000;\n",
       "}\n",
       "#T_f42e7_row1_col6 {\n",
       "  background-color: #f6a586;\n",
       "  color: #000000;\n",
       "}\n",
       "#T_f42e7_row1_col7 {\n",
       "  background-color: #5673e0;\n",
       "  color: #f1f1f1;\n",
       "}\n",
       "#T_f42e7_row1_col8 {\n",
       "  background-color: #4961d2;\n",
       "  color: #f1f1f1;\n",
       "}\n",
       "#T_f42e7_row2_col0 {\n",
       "  background-color: #80a3fa;\n",
       "  color: #f1f1f1;\n",
       "}\n",
       "#T_f42e7_row2_col1 {\n",
       "  background-color: #8fb1fe;\n",
       "  color: #000000;\n",
       "}\n",
       "#T_f42e7_row2_col3 {\n",
       "  background-color: #81a4fb;\n",
       "  color: #f1f1f1;\n",
       "}\n",
       "#T_f42e7_row2_col4, #T_f42e7_row2_col7, #T_f42e7_row6_col5 {\n",
       "  background-color: #9dbdff;\n",
       "  color: #000000;\n",
       "}\n",
       "#T_f42e7_row2_col5, #T_f42e7_row6_col0 {\n",
       "  background-color: #6384eb;\n",
       "  color: #f1f1f1;\n",
       "}\n",
       "#T_f42e7_row2_col6 {\n",
       "  background-color: #a1c0ff;\n",
       "  color: #000000;\n",
       "}\n",
       "#T_f42e7_row2_col8 {\n",
       "  background-color: #86a9fc;\n",
       "  color: #f1f1f1;\n",
       "}\n",
       "#T_f42e7_row3_col0 {\n",
       "  background-color: #5470de;\n",
       "  color: #f1f1f1;\n",
       "}\n",
       "#T_f42e7_row3_col1 {\n",
       "  background-color: #f7af91;\n",
       "  color: #000000;\n",
       "}\n",
       "#T_f42e7_row3_col4 {\n",
       "  background-color: #f29072;\n",
       "  color: #f1f1f1;\n",
       "}\n",
       "#T_f42e7_row3_col5 {\n",
       "  background-color: #a2c1ff;\n",
       "  color: #000000;\n",
       "}\n",
       "#T_f42e7_row3_col6 {\n",
       "  background-color: #f7b99e;\n",
       "  color: #000000;\n",
       "}\n",
       "#T_f42e7_row3_col7, #T_f42e7_row5_col0 {\n",
       "  background-color: #6180e9;\n",
       "  color: #f1f1f1;\n",
       "}\n",
       "#T_f42e7_row3_col8 {\n",
       "  background-color: #6a8bef;\n",
       "  color: #f1f1f1;\n",
       "}\n",
       "#T_f42e7_row4_col1 {\n",
       "  background-color: #d75445;\n",
       "  color: #f1f1f1;\n",
       "}\n",
       "#T_f42e7_row4_col2 {\n",
       "  background-color: #516ddb;\n",
       "  color: #f1f1f1;\n",
       "}\n",
       "#T_f42e7_row4_col3 {\n",
       "  background-color: #f49a7b;\n",
       "  color: #000000;\n",
       "}\n",
       "#T_f42e7_row4_col5 {\n",
       "  background-color: #c0d4f5;\n",
       "  color: #000000;\n",
       "}\n",
       "#T_f42e7_row4_col6 {\n",
       "  background-color: #f4987a;\n",
       "  color: #000000;\n",
       "}\n",
       "#T_f42e7_row4_col7, #T_f42e7_row7_col5 {\n",
       "  background-color: #465ecf;\n",
       "  color: #f1f1f1;\n",
       "}\n",
       "#T_f42e7_row5_col1 {\n",
       "  background-color: #cedaeb;\n",
       "  color: #000000;\n",
       "}\n",
       "#T_f42e7_row5_col3 {\n",
       "  background-color: #b9d0f9;\n",
       "  color: #000000;\n",
       "}\n",
       "#T_f42e7_row5_col4 {\n",
       "  background-color: #dedcdb;\n",
       "  color: #000000;\n",
       "}\n",
       "#T_f42e7_row5_col6 {\n",
       "  background-color: #cdd9ec;\n",
       "  color: #000000;\n",
       "}\n",
       "#T_f42e7_row5_col7 {\n",
       "  background-color: #8badfd;\n",
       "  color: #000000;\n",
       "}\n",
       "#T_f42e7_row5_col8 {\n",
       "  background-color: #84a7fc;\n",
       "  color: #f1f1f1;\n",
       "}\n",
       "#T_f42e7_row6_col1 {\n",
       "  background-color: #f7b093;\n",
       "  color: #000000;\n",
       "}\n",
       "#T_f42e7_row6_col2 {\n",
       "  background-color: #4a63d3;\n",
       "  color: #f1f1f1;\n",
       "}\n",
       "#T_f42e7_row6_col3 {\n",
       "  background-color: #f3c8b2;\n",
       "  color: #000000;\n",
       "}\n",
       "#T_f42e7_row6_col4 {\n",
       "  background-color: #f59d7e;\n",
       "  color: #000000;\n",
       "}\n",
       "#T_f42e7_row6_col8 {\n",
       "  background-color: #85a8fc;\n",
       "  color: #f1f1f1;\n",
       "}\n",
       "#T_f42e7_row7_col0 {\n",
       "  background-color: #9bbcff;\n",
       "  color: #000000;\n",
       "}\n",
       "#T_f42e7_row7_col2 {\n",
       "  background-color: #445acc;\n",
       "  color: #f1f1f1;\n",
       "}\n",
       "#T_f42e7_row7_col8 {\n",
       "  background-color: #d9dce1;\n",
       "  color: #000000;\n",
       "}\n",
       "#T_f42e7_row8_col0 {\n",
       "  background-color: #92b4fe;\n",
       "  color: #000000;\n",
       "}\n",
       "#T_f42e7_row8_col1 {\n",
       "  background-color: #3c4ec2;\n",
       "  color: #f1f1f1;\n",
       "}\n",
       "#T_f42e7_row8_col3 {\n",
       "  background-color: #536edd;\n",
       "  color: #f1f1f1;\n",
       "}\n",
       "#T_f42e7_row8_col4 {\n",
       "  background-color: #3d50c3;\n",
       "  color: #f1f1f1;\n",
       "}\n",
       "#T_f42e7_row8_col6 {\n",
       "  background-color: #93b5fe;\n",
       "  color: #000000;\n",
       "}\n",
       "#T_f42e7_row8_col7 {\n",
       "  background-color: #e0dbd8;\n",
       "  color: #000000;\n",
       "}\n",
       "</style>\n",
       "<table id=\"T_f42e7\">\n",
       "  <thead>\n",
       "    <tr>\n",
       "      <th class=\"blank level0\" >&nbsp;</th>\n",
       "      <th id=\"T_f42e7_level0_col0\" class=\"col_heading level0 col0\" >tip_to_fare</th>\n",
       "      <th id=\"T_f42e7_level0_col1\" class=\"col_heading level0 col1\" >tip_amount</th>\n",
       "      <th id=\"T_f42e7_level0_col2\" class=\"col_heading level0 col2\" >passenger_count</th>\n",
       "      <th id=\"T_f42e7_level0_col3\" class=\"col_heading level0 col3\" >trip_distance</th>\n",
       "      <th id=\"T_f42e7_level0_col4\" class=\"col_heading level0 col4\" >fare_amount</th>\n",
       "      <th id=\"T_f42e7_level0_col5\" class=\"col_heading level0 col5\" >duration_s</th>\n",
       "      <th id=\"T_f42e7_level0_col6\" class=\"col_heading level0 col6\" >Airport_flag</th>\n",
       "      <th id=\"T_f42e7_level0_col7\" class=\"col_heading level0 col7\" >congestion_surcharge_flag</th>\n",
       "      <th id=\"T_f42e7_level0_col8\" class=\"col_heading level0 col8\" >mta_tax_flag</th>\n",
       "    </tr>\n",
       "  </thead>\n",
       "  <tbody>\n",
       "    <tr>\n",
       "      <th id=\"T_f42e7_level0_row0\" class=\"row_heading level0 row0\" >tip_to_fare</th>\n",
       "      <td id=\"T_f42e7_row0_col0\" class=\"data row0 col0\" >1.000000</td>\n",
       "      <td id=\"T_f42e7_row0_col1\" class=\"data row0 col1\" >0.078577</td>\n",
       "      <td id=\"T_f42e7_row0_col2\" class=\"data row0 col2\" >-0.005740</td>\n",
       "      <td id=\"T_f42e7_row0_col3\" class=\"data row0 col3\" >-0.170490</td>\n",
       "      <td id=\"T_f42e7_row0_col4\" class=\"data row0 col4\" >-0.277001</td>\n",
       "      <td id=\"T_f42e7_row0_col5\" class=\"data row0 col5\" >-0.121812</td>\n",
       "      <td id=\"T_f42e7_row0_col6\" class=\"data row0 col6\" >-0.109004</td>\n",
       "      <td id=\"T_f42e7_row0_col7\" class=\"data row0 col7\" >0.094406</td>\n",
       "      <td id=\"T_f42e7_row0_col8\" class=\"data row0 col8\" >0.058073</td>\n",
       "    </tr>\n",
       "    <tr>\n",
       "      <th id=\"T_f42e7_level0_row1\" class=\"row_heading level0 row1\" >tip_amount</th>\n",
       "      <td id=\"T_f42e7_row1_col0\" class=\"data row1 col0\" >0.078577</td>\n",
       "      <td id=\"T_f42e7_row1_col1\" class=\"data row1 col1\" >1.000000</td>\n",
       "      <td id=\"T_f42e7_row1_col2\" class=\"data row1 col2\" >0.039687</td>\n",
       "      <td id=\"T_f42e7_row1_col3\" class=\"data row1 col3\" >0.606683</td>\n",
       "      <td id=\"T_f42e7_row1_col4\" class=\"data row1 col4\" >0.867011</td>\n",
       "      <td id=\"T_f42e7_row1_col5\" class=\"data row1 col5\" >0.288270</td>\n",
       "      <td id=\"T_f42e7_row1_col6\" class=\"data row1 col6\" >0.601041</td>\n",
       "      <td id=\"T_f42e7_row1_col7\" class=\"data row1 col7\" >-0.287771</td>\n",
       "      <td id=\"T_f42e7_row1_col8\" class=\"data row1 col8\" >-0.281754</td>\n",
       "    </tr>\n",
       "    <tr>\n",
       "      <th id=\"T_f42e7_level0_row2\" class=\"row_heading level0 row2\" >passenger_count</th>\n",
       "      <td id=\"T_f42e7_row2_col0\" class=\"data row2 col0\" >-0.005740</td>\n",
       "      <td id=\"T_f42e7_row2_col1\" class=\"data row2 col1\" >0.039687</td>\n",
       "      <td id=\"T_f42e7_row2_col2\" class=\"data row2 col2\" >1.000000</td>\n",
       "      <td id=\"T_f42e7_row2_col3\" class=\"data row2 col3\" >0.027458</td>\n",
       "      <td id=\"T_f42e7_row2_col4\" class=\"data row2 col4\" >0.043376</td>\n",
       "      <td id=\"T_f42e7_row2_col5\" class=\"data row2 col5\" >0.024968</td>\n",
       "      <td id=\"T_f42e7_row2_col6\" class=\"data row2 col6\" >0.016800</td>\n",
       "      <td id=\"T_f42e7_row2_col7\" class=\"data row2 col7\" >-0.002099</td>\n",
       "      <td id=\"T_f42e7_row2_col8\" class=\"data row2 col8\" >-0.036001</td>\n",
       "    </tr>\n",
       "    <tr>\n",
       "      <th id=\"T_f42e7_level0_row3\" class=\"row_heading level0 row3\" >trip_distance</th>\n",
       "      <td id=\"T_f42e7_row3_col0\" class=\"data row3 col0\" >-0.170490</td>\n",
       "      <td id=\"T_f42e7_row3_col1\" class=\"data row3 col1\" >0.606683</td>\n",
       "      <td id=\"T_f42e7_row3_col2\" class=\"data row3 col2\" >0.027458</td>\n",
       "      <td id=\"T_f42e7_row3_col3\" class=\"data row3 col3\" >1.000000</td>\n",
       "      <td id=\"T_f42e7_row3_col4\" class=\"data row3 col4\" >0.687364</td>\n",
       "      <td id=\"T_f42e7_row3_col5\" class=\"data row3 col5\" >0.226196</td>\n",
       "      <td id=\"T_f42e7_row3_col6\" class=\"data row3 col6\" >0.517914</td>\n",
       "      <td id=\"T_f42e7_row3_col7\" class=\"data row3 col7\" >-0.243923</td>\n",
       "      <td id=\"T_f42e7_row3_col8\" class=\"data row3 col8\" >-0.144400</td>\n",
       "    </tr>\n",
       "    <tr>\n",
       "      <th id=\"T_f42e7_level0_row4\" class=\"row_heading level0 row4\" >fare_amount</th>\n",
       "      <td id=\"T_f42e7_row4_col0\" class=\"data row4 col0\" >-0.277001</td>\n",
       "      <td id=\"T_f42e7_row4_col1\" class=\"data row4 col1\" >0.867011</td>\n",
       "      <td id=\"T_f42e7_row4_col2\" class=\"data row4 col2\" >0.043376</td>\n",
       "      <td id=\"T_f42e7_row4_col3\" class=\"data row4 col3\" >0.687364</td>\n",
       "      <td id=\"T_f42e7_row4_col4\" class=\"data row4 col4\" >1.000000</td>\n",
       "      <td id=\"T_f42e7_row4_col5\" class=\"data row4 col5\" >0.327870</td>\n",
       "      <td id=\"T_f42e7_row4_col6\" class=\"data row4 col6\" >0.645451</td>\n",
       "      <td id=\"T_f42e7_row4_col7\" class=\"data row4 col7\" >-0.360140</td>\n",
       "      <td id=\"T_f42e7_row4_col8\" class=\"data row4 col8\" >-0.347990</td>\n",
       "    </tr>\n",
       "    <tr>\n",
       "      <th id=\"T_f42e7_level0_row5\" class=\"row_heading level0 row5\" >duration_s</th>\n",
       "      <td id=\"T_f42e7_row5_col0\" class=\"data row5 col0\" >-0.121812</td>\n",
       "      <td id=\"T_f42e7_row5_col1\" class=\"data row5 col1\" >0.288270</td>\n",
       "      <td id=\"T_f42e7_row5_col2\" class=\"data row5 col2\" >0.024968</td>\n",
       "      <td id=\"T_f42e7_row5_col3\" class=\"data row5 col3\" >0.226196</td>\n",
       "      <td id=\"T_f42e7_row5_col4\" class=\"data row5 col4\" >0.327870</td>\n",
       "      <td id=\"T_f42e7_row5_col5\" class=\"data row5 col5\" >1.000000</td>\n",
       "      <td id=\"T_f42e7_row5_col6\" class=\"data row5 col6\" >0.207864</td>\n",
       "      <td id=\"T_f42e7_row5_col7\" class=\"data row5 col7\" >-0.074621</td>\n",
       "      <td id=\"T_f42e7_row5_col8\" class=\"data row5 col8\" >-0.042626</td>\n",
       "    </tr>\n",
       "    <tr>\n",
       "      <th id=\"T_f42e7_level0_row6\" class=\"row_heading level0 row6\" >Airport_flag</th>\n",
       "      <td id=\"T_f42e7_row6_col0\" class=\"data row6 col0\" >-0.109004</td>\n",
       "      <td id=\"T_f42e7_row6_col1\" class=\"data row6 col1\" >0.601041</td>\n",
       "      <td id=\"T_f42e7_row6_col2\" class=\"data row6 col2\" >0.016800</td>\n",
       "      <td id=\"T_f42e7_row6_col3\" class=\"data row6 col3\" >0.517914</td>\n",
       "      <td id=\"T_f42e7_row6_col4\" class=\"data row6 col4\" >0.645451</td>\n",
       "      <td id=\"T_f42e7_row6_col5\" class=\"data row6 col5\" >0.207864</td>\n",
       "      <td id=\"T_f42e7_row6_col6\" class=\"data row6 col6\" >1.000000</td>\n",
       "      <td id=\"T_f42e7_row6_col7\" class=\"data row6 col7\" >-0.419893</td>\n",
       "      <td id=\"T_f42e7_row6_col8\" class=\"data row6 col8\" >-0.040894</td>\n",
       "    </tr>\n",
       "    <tr>\n",
       "      <th id=\"T_f42e7_level0_row7\" class=\"row_heading level0 row7\" >congestion_surcharge_flag</th>\n",
       "      <td id=\"T_f42e7_row7_col0\" class=\"data row7 col0\" >0.094406</td>\n",
       "      <td id=\"T_f42e7_row7_col1\" class=\"data row7 col1\" >-0.287771</td>\n",
       "      <td id=\"T_f42e7_row7_col2\" class=\"data row7 col2\" >-0.002099</td>\n",
       "      <td id=\"T_f42e7_row7_col3\" class=\"data row7 col3\" >-0.243923</td>\n",
       "      <td id=\"T_f42e7_row7_col4\" class=\"data row7 col4\" >-0.360140</td>\n",
       "      <td id=\"T_f42e7_row7_col5\" class=\"data row7 col5\" >-0.074621</td>\n",
       "      <td id=\"T_f42e7_row7_col6\" class=\"data row7 col6\" >-0.419893</td>\n",
       "      <td id=\"T_f42e7_row7_col7\" class=\"data row7 col7\" >1.000000</td>\n",
       "      <td id=\"T_f42e7_row7_col8\" class=\"data row7 col8\" >0.310057</td>\n",
       "    </tr>\n",
       "    <tr>\n",
       "      <th id=\"T_f42e7_level0_row8\" class=\"row_heading level0 row8\" >mta_tax_flag</th>\n",
       "      <td id=\"T_f42e7_row8_col0\" class=\"data row8 col0\" >0.058073</td>\n",
       "      <td id=\"T_f42e7_row8_col1\" class=\"data row8 col1\" >-0.281754</td>\n",
       "      <td id=\"T_f42e7_row8_col2\" class=\"data row8 col2\" >-0.036001</td>\n",
       "      <td id=\"T_f42e7_row8_col3\" class=\"data row8 col3\" >-0.144400</td>\n",
       "      <td id=\"T_f42e7_row8_col4\" class=\"data row8 col4\" >-0.347990</td>\n",
       "      <td id=\"T_f42e7_row8_col5\" class=\"data row8 col5\" >-0.042626</td>\n",
       "      <td id=\"T_f42e7_row8_col6\" class=\"data row8 col6\" >-0.040894</td>\n",
       "      <td id=\"T_f42e7_row8_col7\" class=\"data row8 col7\" >0.310057</td>\n",
       "      <td id=\"T_f42e7_row8_col8\" class=\"data row8 col8\" >1.000000</td>\n",
       "    </tr>\n",
       "  </tbody>\n",
       "</table>\n"
      ],
      "text/plain": [
       "<pandas.io.formats.style.Styler at 0x71527d4cc6b0>"
      ]
     },
     "execution_count": 3,
     "metadata": {},
     "output_type": "execute_result"
    }
   ],
   "source": [
    "\n",
    "corr = clean_df[[\"tip_to_fare\",\"tip_amount\",'passenger_count',\"trip_distance\",\"fare_amount\",\"duration_s\",'Airport_flag','congestion_surcharge_flag','mta_tax_flag']].corr()\n",
    "corr.style.background_gradient(cmap='coolwarm')"
   ]
  },
  {
   "cell_type": "code",
   "execution_count": 36,
   "id": "c6431449-7381-4fa2-9c82-2bcd8a8a634b",
   "metadata": {},
   "outputs": [
    {
     "data": {
      "text/plain": [
       "<matplotlib.collections.PathCollection at 0x7152733d3800>"
      ]
     },
     "execution_count": 36,
     "metadata": {},
     "output_type": "execute_result"
    },
    {
     "data": {
      "image/png": "[encoded data removed]",
      "text/plain": [
       "<Figure size 640x480 with 1 Axes>"
      ]
     },
     "metadata": {},
     "output_type": "display_data"
    }
   ],
   "source": [
    "plt.scatter(clean_df['fare_amount'],clean_df['tip_amount'],s=0.6,alpha=0.5)"
   ]
  },
  {
   "cell_type": "markdown",
   "id": "4ea381da-8f2e-4a21-b490-70985b62d37e",
   "metadata": {},
   "source": [
    "My first intuition looking the highly correlated values of tip amount and fare_amount,trip_distance is to try to fit a linear model on the data and see how it behaves. So first we will create a simple linear regression model that will be our base model. Did a test with fare amount and trip duration but the coefficient for the trip duration was extremly low. "
   ]
  },
  {
   "cell_type": "code",
   "execution_count": 5,
   "id": "39caa59f-811b-4fca-afe4-7b4b1f54c669",
   "metadata": {
    "scrolled": true
   },
   "outputs": [],
   "source": [
    "#split the df two to parts \n",
    "X=clean_df[[\"fare_amount\",'Airport_flag','trip_distance','congestion_surcharge_flag','mta_tax_flag']]\n",
    "y=clean_df[[\"tip_amount\"]]\n",
    "\n",
    "# 🪓 Train/Test split\n",
    "X_train, X_test, y_train, y_test = train_test_split(X, y, test_size=0.2, random_state=42)\n"
   ]
  },
  {
   "cell_type": "code",
   "execution_count": 6,
   "id": "1401ece0-49b0-4843-9e58-1ce98b320fb0",
   "metadata": {},
   "outputs": [
    {
     "name": "stdout",
     "output_type": "stream",
     "text": [
      "Model Evaluation:\n",
      "Dummy Mean           | MSE: 15.6497 | R²: -0.0000\n",
      "Dummy Median         | MSE: 17.0848 | R²: -0.0917\n",
      "Linear Regression    | MSE: 4.0296 | R²: 0.7425\n",
      "Decision Tree        | MSE: 4.0165 | R²: 0.7433\n"
     ]
    }
   ],
   "source": [
    "\n",
    "# 📊 Baseline 1: Dummy Mean Regressor\n",
    "mean_model = DummyRegressor(strategy=\"mean\")\n",
    "mean_model.fit(X_train, y_train)\n",
    "y_pred_mean = mean_model.predict(X_test)\n",
    "\n",
    "# 📊 Baseline 2: Dummy Median Regressor\n",
    "median_model = DummyRegressor(strategy=\"median\")\n",
    "median_model.fit(X_train, y_train)\n",
    "y_pred_median = median_model.predict(X_test)\n",
    "\n",
    "# 📈 Baseline 3: Linear Regression\n",
    "linreg = LinearRegression()\n",
    "linreg.fit(X_train, y_train)\n",
    "y_pred_linreg = linreg.predict(X_test)\n",
    "\n",
    "# 🌳 Baseline 4: Simple Decision Tree\n",
    "tree = DecisionTreeRegressor(max_depth=3)\n",
    "tree.fit(X_train, y_train)\n",
    "y_pred_tree = tree.predict(X_test)\n",
    "\n",
    "\n",
    "# 🧾 Report\n",
    "print(\"Model Evaluation:\")\n",
    "eval_model(\"Dummy Mean\", y_test, y_pred_mean)\n",
    "eval_model(\"Dummy Median\", y_test, y_pred_median)\n",
    "eval_model(\"Linear Regression\", y_test, y_pred_linreg)\n",
    "eval_model(\"Decision Tree\", y_test, y_pred_tree)"
   ]
  },
  {
   "cell_type": "markdown",
   "id": "3e64ece9-05f3-4726-a4ce-cb68ce580ac0",
   "metadata": {},
   "source": [
    "From our first experiment, we can observe that we can achieve good results in MSE and R² with LR and DT to achieve very similar results,which can be verified also with some additional cross validation."
   ]
  },
  {
   "cell_type": "code",
   "execution_count": 7,
   "id": "35c24dc6-eca0-481c-9feb-185ca0a123c9",
   "metadata": {},
   "outputs": [
    {
     "name": "stdout",
     "output_type": "stream",
     "text": [
      "fare_amount          | coef: 0.1721 \n",
      "Airport_flag         | coef: 1.1325 \n",
      "trip_distance        | coef: 0.0538 \n",
      "congestion_surcharge_flag | coef: 0.8865 \n",
      "mta_tax_flag         | coef: -0.6001 \n"
     ]
    }
   ],
   "source": [
    "\n",
    "coef =linreg.coef_[0]\n",
    "for idx,name in enumerate(X_test.columns):\n",
    "    \n",
    "    print(f\"{name:<20} | coef: {coef[idx]:.4f} \")"
   ]
  },
  {
   "cell_type": "code",
   "execution_count": 8,
   "id": "a5145621-cdeb-4b61-9f42-04af0d806483",
   "metadata": {
    "scrolled": true
   },
   "outputs": [
    {
     "name": "stdout",
     "output_type": "stream",
     "text": [
      "[0.75930287 0.76211836 0.7402914  0.75128077 0.75555725]\n",
      "[0.74743263 0.74485526 0.74212812 0.73945265 0.74027177]\n"
     ]
    }
   ],
   "source": [
    "print(cross_val_score(linreg, X, y, scoring='r2', cv=5))\n",
    "print(cross_val_score(tree, X, y, scoring='r2', cv=5))"
   ]
  },
  {
   "cell_type": "code",
   "execution_count": 12,
   "id": "1b662908-8714-443e-974c-cfc80a08c887",
   "metadata": {},
   "outputs": [
    {
     "data": {
      "text/plain": [
       "(array([1.00000e+00, 0.00000e+00, 0.00000e+00, 0.00000e+00, 0.00000e+00,\n",
       "        0.00000e+00, 1.30000e+01, 6.32700e+03, 3.33414e+05, 1.70000e+01]),\n",
       " array([-289.50215046, -253.9100446 , -218.31793875, -182.7258329 ,\n",
       "        -147.13372705, -111.54162119,  -75.94951534,  -40.35740949,\n",
       "          -4.76530364,   30.82680222,   66.41890807]),\n",
       " <BarContainer object of 10 artists>)"
      ]
     },
     "execution_count": 12,
     "metadata": {},
     "output_type": "execute_result"
    },
    {
     "data": {
      "image/png": "[encoded data removed]",
      "text/plain": [
       "<Figure size 1000x1000 with 1 Axes>"
      ]
     },
     "metadata": {},
     "output_type": "display_data"
    }
   ],
   "source": [
    "residuals = y_test - y_pred_linreg\n",
    "fig,ax = plt.subplots(figsize=(10,10))\n",
    "plt.hist(residuals)"
   ]
  },
  {
   "cell_type": "markdown",
   "id": "5f6d266d-2bc3-47b0-9436-89d952bbc0ae",
   "metadata": {},
   "source": [
    "Plotting the residuals over the fitted values we can obeserve that our model suffers from heteroscedacity"
   ]
  },
  {
   "cell_type": "markdown",
   "id": "8fdc0d75-b311-4cf3-a431-075534e26fa4",
   "metadata": {},
   "source": [
    "### Log Transform the target"
   ]
  },
  {
   "cell_type": "code",
   "execution_count": 10,
   "id": "31130bab-572c-4e40-99bf-d9fa19da1046",
   "metadata": {},
   "outputs": [
    {
     "name": "stdout",
     "output_type": "stream",
     "text": [
      "Linear Regression with Log transformation | MSE: 0.2765 | R²: 0.4582\n"
     ]
    }
   ],
   "source": [
    "# Log transform \n",
    "linregLog = LinearRegression()\n",
    "linregLog.fit(X_train, np.log(y_train))\n",
    "y_pred_linregLog = linregLog.predict(X_test)\n",
    "\n",
    "eval_model(\"Linear Regression with Log transformation\", np.log(y_test), y_pred_linregLog)\n"
   ]
  },
  {
   "cell_type": "markdown",
   "id": "087ad5ce-1a89-46b8-8319-ee6cafdb1ef5",
   "metadata": {},
   "source": [
    "### Weighted Least Squares"
   ]
  },
  {
   "cell_type": "code",
   "execution_count": 11,
   "id": "24eb25a0-a41a-48bd-ad39-539cd21be01a",
   "metadata": {},
   "outputs": [
    {
     "name": "stdout",
     "output_type": "stream",
     "text": [
      "WLS                  | MSE: 3.7877 | R²: 0.7580\n"
     ]
    },
    {
     "data": {
      "image/png": "[encoded data removed]",
      "text/plain": [
       "<Figure size 800x500 with 1 Axes>"
      ]
     },
     "metadata": {},
     "output_type": "display_data"
    }
   ],
   "source": [
    "import statsmodels.api as sm\n",
    "\n",
    "# Estimate variance from residuals of OLS\n",
    "ols_resid = sm.OLS(y, X).fit().resid\n",
    "weights = 1 / (ols_resid**2 + 1e-6)  # avoid division by zero\n",
    "\n",
    "model_wls = sm.WLS(y, X, weights=weights).fit()\n",
    "y_pred_wls = model_wls.predict(X_test)\n",
    "eval_model(\"WLS \", y_test, y_pred_wls)\n",
    "\n",
    "\n",
    "residuals = y_test['tip_amount'] - y_pred_wls.values.flatten()\n",
    "\n",
    "plt.figure(figsize=(8, 5))\n",
    "plt.scatter(y_pred_wls, residuals)\n",
    "plt.axhline(0, color='red', linestyle='--')\n",
    "plt.xlabel('Fitted Values (Predictions)')\n",
    "plt.ylabel('Residuals')\n",
    "plt.title('Residuals vs Fitted')\n",
    "plt.show()"
   ]
  },
  {
   "cell_type": "markdown",
   "id": "bb07f913-4caa-4194-a87a-c5fbe3913d47",
   "metadata": {},
   "source": [
    "## Regularisation"
   ]
  },
  {
   "cell_type": "markdown",
   "id": "9dd7ce2b-6c8d-451c-a749-cdcebf51e816",
   "metadata": {},
   "source": [
    "We can try apply regularisation on the regression model in case the hetersoscedacity is caused by multicollinearity of the predictors"
   ]
  },
  {
   "cell_type": "code",
   "execution_count": 38,
   "id": "0d7a29e0-5d44-4abd-b1a6-b6c863992cfa",
   "metadata": {},
   "outputs": [],
   "source": [
    "\n",
    "\n",
    "from sklearn.preprocessing import PowerTransformer, QuantileTransformer\n",
    "\n",
    "# Intlize Power Transformer\n",
    "qt = QuantileTransformer(output_distribution='normal')\n",
    "\n",
    "# Numerical Columsn to Transform \n",
    "cols_num = ['trip_distance', 'fare_amount','total_amount']\n",
    "\n",
    "# Fit and Transform\n",
    "for col in cols_num:\n",
    "    # Fit and transform\n",
    "    clean_df[col] = qt.fit_transform(clean_df[[col]])"
   ]
  },
  {
   "cell_type": "markdown",
   "id": "3f49850c-794b-47bc-893b-697dda439b8f",
   "metadata": {},
   "source": [
    "### Elastic Net"
   ]
  },
  {
   "cell_type": "code",
   "execution_count": null,
   "id": "af5ecda3-24e2-40a8-8dcb-d316d3ede7cb",
   "metadata": {},
   "outputs": [],
   "source": [
    "from sklearn.linear_model import ElasticNetCV\n",
    "\n",
    "# Automatically tune alpha and l1_ratio using cross-validation\n",
    "elastic_net = ElasticNetCV(cv=5, l1_ratio=[.1, .5, .7, .9, .95, 1], random_state=42)\n",
    "elastic_net.fit(X_train, y_train)\n",
    "y_pred_elastic = elastic_net.predict(X_test)\n"
   ]
  },
  {
   "cell_type": "code",
   "execution_count": 10,
   "id": "ce0b9d99-2e5e-4fbd-b3e4-a9cdf8f5fba7",
   "metadata": {},
   "outputs": [
    {
     "name": "stdout",
     "output_type": "stream",
     "text": [
      "Elastic Net          | MSE: 4.3846 | R²: 0.7198\n",
      "tip_amount = 0.9210 + 0.1745*fare_amount + 0.0000*Airport_flag + 0.0801*trip_distance + 0.0000*congestion_surcharge_flag + 0.0000*mta_tax_flag\n"
     ]
    }
   ],
   "source": [
    "\n",
    "# Evaluate\n",
    "eval_model(\"Elastic Net\", y_test, y_pred_elastic)\n",
    "\n",
    "terms = [f\"{coef:.4f}*{feature}\" for feature, coef in zip(X_train.columns, elastic_net.coef_)]\n",
    "equation = f\"tip_amount = {elastic_net.intercept_:.4f} + \" + \" + \".join(terms)\n",
    "print(equation)"
   ]
  },
  {
   "cell_type": "markdown",
   "id": "3b0e1a31-e3a1-4922-8bb3-ad306173a000",
   "metadata": {},
   "source": [
    "### Sequential Feature Selector"
   ]
  },
  {
   "cell_type": "code",
   "execution_count": 88,
   "id": "5c2420c8-9fc9-45a1-b5f4-af18a39b579f",
   "metadata": {},
   "outputs": [
    {
     "name": "stdout",
     "output_type": "stream",
     "text": [
      "Selected features: ['fare_amount', 'Airport_flag']\n",
      "Stepwise Linear      | MSE: 3.4245 | R²: 0.7524\n",
      "tip_amount = 1.0337 + fare_amount*0.1824 + Airport_flag*0.9078\n"
     ]
    }
   ],
   "source": [
    "from sklearn.feature_selection import SequentialFeatureSelector\n",
    "\n",
    "base_model = LinearRegression()\n",
    "\n",
    "# Forward stepwise selection\n",
    "sfs = SequentialFeatureSelector(base_model, direction='forward', n_features_to_select='auto', cv=5)\n",
    "sfs.fit(X_train, y_train)\n",
    "\n",
    "# Reduced feature set\n",
    "selected_features = X_train.columns[sfs.get_support()]\n",
    "print(\"Selected features:\", list(selected_features))\n",
    "\n",
    "# Fit final model on selected features\n",
    "X_train_reduced = X_train[selected_features]\n",
    "X_test_reduced = X_test[selected_features]\n",
    "\n",
    "stepwise_model = LinearRegression()\n",
    "stepwise_model.fit(X_train_reduced, y_train)\n",
    "y_pred_stepwise = stepwise_model.predict(X_test_reduced)\n",
    "\n",
    "# Evaluate\n",
    "eval_model(\"Stepwise Linear\", y_test, y_pred_stepwise)\n",
    "terms = [f'{feature}*{coef:.4f}' for feature, coef in zip(selected_features, stepwise_model.coef_[0])]\n",
    "equation = f\"tip_amount = {stepwise_model.intercept_[0]:.4f} + \" + \" + \".join(terms)\n",
    "print(equation)"
   ]
  }
 ],
 "metadata": {
  "kernelspec": {
   "display_name": "Python 3 (ipykernel)",
   "language": "python",
   "name": "python3"
  },
  "language_info": {
   "codemirror_mode": {
    "name": "ipython",
    "version": 3
   },
   "file_extension": ".py",
   "mimetype": "text/x-python",
   "name": "python",
   "nbconvert_exporter": "python",
   "pygments_lexer": "ipython3",
   "version": "3.12.8"
  }
 },
 "nbformat": 4,
 "nbformat_minor": 5
}
