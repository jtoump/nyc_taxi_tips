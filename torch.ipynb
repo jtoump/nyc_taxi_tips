{
 "cells": [
  {
   "cell_type": "code",
   "execution_count": 7,
   "metadata": {},
   "outputs": [],
   "source": [
    "import torch\n",
    "import torch.nn as nn\n",
    "from torch.autograd import Variable\n",
    "import numpy as np\n",
    "import pandas as pd\n",
    "import matplotlib.pyplot as plt\n",
    "\n",
    "import os"
   ]
  },
  {
   "cell_type": "code",
   "execution_count": 5,
   "metadata": {},
   "outputs": [],
   "source": [
    "#setting some much needed paths \n",
    "\n",
    "dataPath = os.path.join(\"data\")\n",
    "csvPath  = os.path.join(dataPath,\"CSV\")\n",
    "shpPath  = os.path.join(dataPath,\"SHP\")\n",
    "\n",
    "outputPath = os.path.join(\"outputs\")\n",
    "imagePath = os.path.join(outputPath,\"images\")\n",
    "\n"
   ]
  },
  {
   "cell_type": "code",
   "execution_count": 6,
   "metadata": {},
   "outputs": [],
   "source": [
    "fileName = \"clean_sample.csv\"\n",
    "filePath = os.path.join(csvPath,fileName)\n",
    "\n",
    "\n",
    "cleanDf=pd.read_csv(filePath)"
   ]
  },
  {
   "cell_type": "code",
   "execution_count": 11,
   "metadata": {},
   "outputs": [
    {
     "data": {
      "text/html": [
       "<div>\n",
       "<style scoped>\n",
       "    .dataframe tbody tr th:only-of-type {\n",
       "        vertical-align: middle;\n",
       "    }\n",
       "\n",
       "    .dataframe tbody tr th {\n",
       "        vertical-align: top;\n",
       "    }\n",
       "\n",
       "    .dataframe thead th {\n",
       "        text-align: right;\n",
       "    }\n",
       "</style>\n",
       "<table border=\"1\" class=\"dataframe\">\n",
       "  <thead>\n",
       "    <tr style=\"text-align: right;\">\n",
       "      <th></th>\n",
       "      <th>Unnamed: 0</th>\n",
       "      <th>VendorID</th>\n",
       "      <th>tpep_pickup_datetime</th>\n",
       "      <th>tpep_dropoff_datetime</th>\n",
       "      <th>passenger_count</th>\n",
       "      <th>trip_distance</th>\n",
       "      <th>RatecodeID</th>\n",
       "      <th>store_and_fwd_flag</th>\n",
       "      <th>PULocationID</th>\n",
       "      <th>DOLocationID</th>\n",
       "      <th>...</th>\n",
       "      <th>do_hour</th>\n",
       "      <th>pu_date</th>\n",
       "      <th>do_date</th>\n",
       "      <th>Unnamed: 0.1</th>\n",
       "      <th>pu_month</th>\n",
       "      <th>do_month</th>\n",
       "      <th>dollar_per_mile</th>\n",
       "      <th>tip_to_fare</th>\n",
       "      <th>duration_s</th>\n",
       "      <th>weekend</th>\n",
       "    </tr>\n",
       "  </thead>\n",
       "  <tbody>\n",
       "    <tr>\n",
       "      <th>0</th>\n",
       "      <td>0</td>\n",
       "      <td>1</td>\n",
       "      <td>2017-03-23 05:31:27</td>\n",
       "      <td>2017-03-23 05:38:23</td>\n",
       "      <td>1</td>\n",
       "      <td>1.00</td>\n",
       "      <td>1</td>\n",
       "      <td>N</td>\n",
       "      <td>75</td>\n",
       "      <td>41</td>\n",
       "      <td>...</td>\n",
       "      <td>5</td>\n",
       "      <td>2017-03-23</td>\n",
       "      <td>2017-03-23</td>\n",
       "      <td>7748768.0</td>\n",
       "      <td>3</td>\n",
       "      <td>3</td>\n",
       "      <td>6.500000</td>\n",
       "      <td>0.030769</td>\n",
       "      <td>416</td>\n",
       "      <td>0</td>\n",
       "    </tr>\n",
       "    <tr>\n",
       "      <th>1</th>\n",
       "      <td>2</td>\n",
       "      <td>2</td>\n",
       "      <td>2017-03-13 11:22:21</td>\n",
       "      <td>2017-03-13 11:33:57</td>\n",
       "      <td>2</td>\n",
       "      <td>1.44</td>\n",
       "      <td>1</td>\n",
       "      <td>N</td>\n",
       "      <td>43</td>\n",
       "      <td>161</td>\n",
       "      <td>...</td>\n",
       "      <td>11</td>\n",
       "      <td>2017-03-13</td>\n",
       "      <td>2017-03-13</td>\n",
       "      <td>4607597.0</td>\n",
       "      <td>3</td>\n",
       "      <td>3</td>\n",
       "      <td>6.250000</td>\n",
       "      <td>0.272222</td>\n",
       "      <td>696</td>\n",
       "      <td>0</td>\n",
       "    </tr>\n",
       "    <tr>\n",
       "      <th>2</th>\n",
       "      <td>3</td>\n",
       "      <td>2</td>\n",
       "      <td>2017-03-10 15:54:35</td>\n",
       "      <td>2017-03-10 16:05:03</td>\n",
       "      <td>3</td>\n",
       "      <td>1.49</td>\n",
       "      <td>1</td>\n",
       "      <td>N</td>\n",
       "      <td>186</td>\n",
       "      <td>163</td>\n",
       "      <td>...</td>\n",
       "      <td>16</td>\n",
       "      <td>2017-03-10</td>\n",
       "      <td>2017-03-10</td>\n",
       "      <td>32410.0</td>\n",
       "      <td>3</td>\n",
       "      <td>3</td>\n",
       "      <td>5.704698</td>\n",
       "      <td>0.218824</td>\n",
       "      <td>628</td>\n",
       "      <td>0</td>\n",
       "    </tr>\n",
       "    <tr>\n",
       "      <th>3</th>\n",
       "      <td>4</td>\n",
       "      <td>1</td>\n",
       "      <td>2017-03-06 15:53:31</td>\n",
       "      <td>2017-03-06 16:04:12</td>\n",
       "      <td>1</td>\n",
       "      <td>0.80</td>\n",
       "      <td>1</td>\n",
       "      <td>N</td>\n",
       "      <td>237</td>\n",
       "      <td>142</td>\n",
       "      <td>...</td>\n",
       "      <td>16</td>\n",
       "      <td>2017-03-06</td>\n",
       "      <td>2017-03-06</td>\n",
       "      <td>2543859.0</td>\n",
       "      <td>3</td>\n",
       "      <td>3</td>\n",
       "      <td>10.625000</td>\n",
       "      <td>0.235294</td>\n",
       "      <td>641</td>\n",
       "      <td>0</td>\n",
       "    </tr>\n",
       "    <tr>\n",
       "      <th>4</th>\n",
       "      <td>5</td>\n",
       "      <td>2</td>\n",
       "      <td>2017-03-07 08:09:55</td>\n",
       "      <td>2017-03-07 08:27:33</td>\n",
       "      <td>6</td>\n",
       "      <td>2.88</td>\n",
       "      <td>1</td>\n",
       "      <td>N</td>\n",
       "      <td>48</td>\n",
       "      <td>140</td>\n",
       "      <td>...</td>\n",
       "      <td>8</td>\n",
       "      <td>2017-03-07</td>\n",
       "      <td>2017-03-07</td>\n",
       "      <td>2730975.0</td>\n",
       "      <td>3</td>\n",
       "      <td>3</td>\n",
       "      <td>4.687500</td>\n",
       "      <td>0.265185</td>\n",
       "      <td>1058</td>\n",
       "      <td>0</td>\n",
       "    </tr>\n",
       "  </tbody>\n",
       "</table>\n",
       "<p>5 rows × 31 columns</p>\n",
       "</div>"
      ],
      "text/plain": [
       "   Unnamed: 0  VendorID tpep_pickup_datetime tpep_dropoff_datetime  \\\n",
       "0           0         1  2017-03-23 05:31:27   2017-03-23 05:38:23   \n",
       "1           2         2  2017-03-13 11:22:21   2017-03-13 11:33:57   \n",
       "2           3         2  2017-03-10 15:54:35   2017-03-10 16:05:03   \n",
       "3           4         1  2017-03-06 15:53:31   2017-03-06 16:04:12   \n",
       "4           5         2  2017-03-07 08:09:55   2017-03-07 08:27:33   \n",
       "\n",
       "   passenger_count  trip_distance  RatecodeID store_and_fwd_flag  \\\n",
       "0                1           1.00           1                  N   \n",
       "1                2           1.44           1                  N   \n",
       "2                3           1.49           1                  N   \n",
       "3                1           0.80           1                  N   \n",
       "4                6           2.88           1                  N   \n",
       "\n",
       "   PULocationID  DOLocationID  ...  do_hour     pu_date     do_date  \\\n",
       "0            75            41  ...        5  2017-03-23  2017-03-23   \n",
       "1            43           161  ...       11  2017-03-13  2017-03-13   \n",
       "2           186           163  ...       16  2017-03-10  2017-03-10   \n",
       "3           237           142  ...       16  2017-03-06  2017-03-06   \n",
       "4            48           140  ...        8  2017-03-07  2017-03-07   \n",
       "\n",
       "   Unnamed: 0.1  pu_month  do_month  dollar_per_mile  tip_to_fare  duration_s  \\\n",
       "0     7748768.0         3         3         6.500000     0.030769         416   \n",
       "1     4607597.0         3         3         6.250000     0.272222         696   \n",
       "2       32410.0         3         3         5.704698     0.218824         628   \n",
       "3     2543859.0         3         3        10.625000     0.235294         641   \n",
       "4     2730975.0         3         3         4.687500     0.265185        1058   \n",
       "\n",
       "   weekend  \n",
       "0        0  \n",
       "1        0  \n",
       "2        0  \n",
       "3        0  \n",
       "4        0  \n",
       "\n",
       "[5 rows x 31 columns]"
      ]
     },
     "execution_count": 11,
     "metadata": {},
     "output_type": "execute_result"
    }
   ],
   "source": [
    "cleanDf.head()"
   ]
  },
  {
   "cell_type": "markdown",
   "metadata": {},
   "source": [
    "Introduce some new features"
   ]
  },
  {
   "cell_type": "code",
   "execution_count": 10,
   "metadata": {},
   "outputs": [],
   "source": [
    "cleanDf['weekend']=cleanDf['pu_day'].apply(lambda x: 1 if x in [5,6] else 0)"
   ]
  },
  {
   "cell_type": "code",
   "execution_count": 45,
   "metadata": {},
   "outputs": [],
   "source": [
    "#group time \n",
    "\n",
    "#0-5\n",
    "#5-8\n",
    "#10-15\n",
    "#15-20\n",
    "#20-0\n",
    "\n",
    "time_grp=[]\n",
    "time_boundaries=[(0,5),(5,8),(8,13),(13,15),(15,20),(20,0)]\n",
    "for i in range(len(cleanDf)):\n",
    "    time_ = cleanDf['pu_hour'].iloc[i]\n",
    "    for idx,bounds in enumerate(time_boundaries):\n",
    "        if((time_>=bounds[0]) and (time_<bounds[1])):\n",
    "            time_grp.append(idx)\n",
    "            break\n",
    "    "
   ]
  },
  {
   "cell_type": "code",
   "execution_count": 30,
   "metadata": {},
   "outputs": [],
   "source": [
    "time_groups_one_hot = pd.get_dummies(pd.Series(time_grp), prefix='time_grp')\n"
   ]
  },
  {
   "cell_type": "code",
   "execution_count": 37,
   "metadata": {},
   "outputs": [
    {
     "data": {
      "text/plain": [
       "array([[0, 1, 0, 0, 0],\n",
       "       [0, 0, 1, 0, 0],\n",
       "       [0, 0, 0, 0, 1],\n",
       "       ...,\n",
       "       [0, 0, 1, 0, 0],\n",
       "       [0, 0, 1, 0, 0],\n",
       "       [0, 0, 0, 0, 1]], dtype=uint8)"
      ]
     },
     "execution_count": 37,
     "metadata": {},
     "output_type": "execute_result"
    }
   ],
   "source": [
    "time_groups_one_hot.values"
   ]
  },
  {
   "cell_type": "code",
   "execution_count": null,
   "metadata": {},
   "outputs": [],
   "source": [
    "norm_duration  = cleanDf['duration_s']/max(cleanDf['duration_s'])\n",
    "norm_trip_distance = cle"
   ]
  },
  {
   "cell_type": "code",
   "execution_count": 46,
   "metadata": {},
   "outputs": [
    {
     "data": {
      "text/plain": [
       "False"
      ]
     },
     "execution_count": 46,
     "metadata": {},
     "output_type": "execute_result"
    }
   ],
   "source": [
    "len(time_grp)==len(cleanDf)"
   ]
  },
  {
   "cell_type": "code",
   "execution_count": 38,
   "metadata": {},
   "outputs": [
    {
     "ename": "ValueError",
     "evalue": "all input arrays must have the same shape",
     "output_type": "error",
     "traceback": [
      "\u001b[0;31m---------------------------------------------------------------------------\u001b[0m",
      "\u001b[0;31mValueError\u001b[0m                                Traceback (most recent call last)",
      "\u001b[0;32m<ipython-input-38-147d804ba3e8>\u001b[0m in \u001b[0;36m<module>\u001b[0;34m\u001b[0m\n\u001b[0;32m----> 1\u001b[0;31m \u001b[0mX\u001b[0m \u001b[0;34m=\u001b[0m \u001b[0mnp\u001b[0m\u001b[0;34m.\u001b[0m\u001b[0mstack\u001b[0m\u001b[0;34m(\u001b[0m\u001b[0;34m(\u001b[0m\u001b[0mtime_groups_one_hot\u001b[0m\u001b[0;34m.\u001b[0m\u001b[0mvalues\u001b[0m\u001b[0;34m,\u001b[0m\u001b[0mcleanDf\u001b[0m\u001b[0;34m[\u001b[0m\u001b[0;34m'duration_s'\u001b[0m\u001b[0;34m]\u001b[0m\u001b[0;34m.\u001b[0m\u001b[0mvalues\u001b[0m\u001b[0;34m,\u001b[0m\u001b[0mcleanDf\u001b[0m\u001b[0;34m[\u001b[0m\u001b[0;34m'trip_distance'\u001b[0m\u001b[0;34m]\u001b[0m\u001b[0;34m.\u001b[0m\u001b[0mvalues\u001b[0m\u001b[0;34m)\u001b[0m\u001b[0;34m)\u001b[0m\u001b[0;34m.\u001b[0m\u001b[0mT\u001b[0m\u001b[0;34m\u001b[0m\u001b[0;34m\u001b[0m\u001b[0m\n\u001b[0m\u001b[1;32m      2\u001b[0m \u001b[0mX\u001b[0m \u001b[0;34m=\u001b[0m \u001b[0mtorch\u001b[0m\u001b[0;34m.\u001b[0m\u001b[0mfrom_numpy\u001b[0m\u001b[0;34m(\u001b[0m\u001b[0mX\u001b[0m\u001b[0;34m)\u001b[0m\u001b[0;34m\u001b[0m\u001b[0;34m\u001b[0m\u001b[0m\n\u001b[1;32m      3\u001b[0m \u001b[0mX\u001b[0m \u001b[0;34m=\u001b[0m \u001b[0mX\u001b[0m\u001b[0;34m.\u001b[0m\u001b[0mtype\u001b[0m\u001b[0;34m(\u001b[0m\u001b[0mtorch\u001b[0m\u001b[0;34m.\u001b[0m\u001b[0mFloatTensor\u001b[0m\u001b[0;34m)\u001b[0m\u001b[0;34m\u001b[0m\u001b[0;34m\u001b[0m\u001b[0m\n",
      "\u001b[0;32m<__array_function__ internals>\u001b[0m in \u001b[0;36mstack\u001b[0;34m(*args, **kwargs)\u001b[0m\n",
      "\u001b[0;32m~/anaconda3/envs/fastai/lib/python3.7/site-packages/numpy/core/shape_base.py\u001b[0m in \u001b[0;36mstack\u001b[0;34m(arrays, axis, out)\u001b[0m\n\u001b[1;32m    424\u001b[0m     \u001b[0mshapes\u001b[0m \u001b[0;34m=\u001b[0m \u001b[0;34m{\u001b[0m\u001b[0marr\u001b[0m\u001b[0;34m.\u001b[0m\u001b[0mshape\u001b[0m \u001b[0;32mfor\u001b[0m \u001b[0marr\u001b[0m \u001b[0;32min\u001b[0m \u001b[0marrays\u001b[0m\u001b[0;34m}\u001b[0m\u001b[0;34m\u001b[0m\u001b[0;34m\u001b[0m\u001b[0m\n\u001b[1;32m    425\u001b[0m     \u001b[0;32mif\u001b[0m \u001b[0mlen\u001b[0m\u001b[0;34m(\u001b[0m\u001b[0mshapes\u001b[0m\u001b[0;34m)\u001b[0m \u001b[0;34m!=\u001b[0m \u001b[0;36m1\u001b[0m\u001b[0;34m:\u001b[0m\u001b[0;34m\u001b[0m\u001b[0;34m\u001b[0m\u001b[0m\n\u001b[0;32m--> 426\u001b[0;31m         \u001b[0;32mraise\u001b[0m \u001b[0mValueError\u001b[0m\u001b[0;34m(\u001b[0m\u001b[0;34m'all input arrays must have the same shape'\u001b[0m\u001b[0;34m)\u001b[0m\u001b[0;34m\u001b[0m\u001b[0;34m\u001b[0m\u001b[0m\n\u001b[0m\u001b[1;32m    427\u001b[0m \u001b[0;34m\u001b[0m\u001b[0m\n\u001b[1;32m    428\u001b[0m     \u001b[0mresult_ndim\u001b[0m \u001b[0;34m=\u001b[0m \u001b[0marrays\u001b[0m\u001b[0;34m[\u001b[0m\u001b[0;36m0\u001b[0m\u001b[0;34m]\u001b[0m\u001b[0;34m.\u001b[0m\u001b[0mndim\u001b[0m \u001b[0;34m+\u001b[0m \u001b[0;36m1\u001b[0m\u001b[0;34m\u001b[0m\u001b[0;34m\u001b[0m\u001b[0m\n",
      "\u001b[0;31mValueError\u001b[0m: all input arrays must have the same shape"
     ]
    }
   ],
   "source": [
    "X = np.stack((time_groups_one_hot.values,cleanDf['duration_s'].values,cleanDf['trip_distance'].values)).T\n",
    "X = torch.from_numpy(X)\n",
    "X = X.type(torch.FloatTensor)"
   ]
  }
 ],
 "metadata": {
  "kernelspec": {
   "display_name": "Python 3 (ipykernel)",
   "language": "python",
   "name": "python3"
  },
  "language_info": {
   "codemirror_mode": {
    "name": "ipython",
    "version": 3
   },
   "file_extension": ".py",
   "mimetype": "text/x-python",
   "name": "python",
   "nbconvert_exporter": "python",
   "pygments_lexer": "ipython3",
   "version": "3.12.9"
  }
 },
 "nbformat": 4,
 "nbformat_minor": 4
}
